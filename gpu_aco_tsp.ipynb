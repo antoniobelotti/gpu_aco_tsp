{
  "nbformat": 4,
  "nbformat_minor": 0,
  "metadata": {
    "colab": {
      "name": "gpu_aco_tsp.ipynb",
      "provenance": [],
      "collapsed_sections": [
        "cOwUP61S90V5",
        "Yr4keply-C2o"
      ],
      "authorship_tag": "ABX9TyNzPU7IvEbktTLEYcsVGu9Q",
      "include_colab_link": true
    },
    "kernelspec": {
      "name": "python3",
      "display_name": "Python 3"
    },
    "language_info": {
      "name": "python"
    },
    "gpuClass": "standard"
  },
  "cells": [
    {
      "cell_type": "markdown",
      "metadata": {
        "id": "view-in-github",
        "colab_type": "text"
      },
      "source": [
        "<a href=\"https://colab.research.google.com/github/antoniobelotti/gpu_aco_tsp/blob/master/gpu_aco_tsp.ipynb\" target=\"_parent\"><img src=\"https://colab.research.google.com/assets/colab-badge.svg\" alt=\"Open In Colab\"/></a>"
      ]
    },
    {
      "cell_type": "markdown",
      "source": [
        "#Setup"
      ],
      "metadata": {
        "id": "cOwUP61S90V5"
      }
    },
    {
      "cell_type": "code",
      "execution_count": null,
      "metadata": {
        "colab": {
          "base_uri": "https://localhost:8080/"
        },
        "id": "vcrTWUB87XmP",
        "outputId": "8ac6f448-9f02-4c3c-819a-244c93235347"
      },
      "outputs": [
        {
          "output_type": "stream",
          "name": "stdout",
          "text": [
            "NVIDIA-SMI has failed because it couldn't communicate with the NVIDIA driver. Make sure that the latest NVIDIA driver is installed and running.\n",
            "\n"
          ]
        }
      ],
      "source": [
        "!nvidia-smi"
      ]
    },
    {
      "cell_type": "code",
      "source": [
        "!nvcc --version"
      ],
      "metadata": {
        "colab": {
          "base_uri": "https://localhost:8080/"
        },
        "id": "mAXh_1Eq7rG8",
        "outputId": "35f6e4a6-402f-4b55-ed18-1fbede410a08"
      },
      "execution_count": null,
      "outputs": [
        {
          "output_type": "stream",
          "name": "stdout",
          "text": [
            "nvcc: NVIDIA (R) Cuda compiler driver\n",
            "Copyright (c) 2005-2020 NVIDIA Corporation\n",
            "Built on Mon_Oct_12_20:09:46_PDT_2020\n",
            "Cuda compilation tools, release 11.1, V11.1.105\n",
            "Build cuda_11.1.TC455_06.29190527_0\n"
          ]
        }
      ]
    },
    {
      "cell_type": "code",
      "source": [
        "!pip install git+https://github.com/andreinechaev/nvcc4jupyter\n",
        "%load_ext nvcc_plugin"
      ],
      "metadata": {
        "colab": {
          "base_uri": "https://localhost:8080/"
        },
        "id": "bYnRmVjb7zHD",
        "outputId": "275125e8-4312-4274-a5b1-4763459770ac"
      },
      "execution_count": null,
      "outputs": [
        {
          "output_type": "stream",
          "name": "stdout",
          "text": [
            "Looking in indexes: https://pypi.org/simple, https://us-python.pkg.dev/colab-wheels/public/simple/\n",
            "Collecting git+https://github.com/andreinechaev/nvcc4jupyter\n",
            "  Cloning https://github.com/andreinechaev/nvcc4jupyter to /tmp/pip-req-build-89ay73hn\n",
            "  Running command git clone -q https://github.com/andreinechaev/nvcc4jupyter /tmp/pip-req-build-89ay73hn\n",
            "Building wheels for collected packages: NVCCPlugin\n",
            "  Building wheel for NVCCPlugin (setup.py) ... \u001b[?25l\u001b[?25hdone\n",
            "  Created wheel for NVCCPlugin: filename=NVCCPlugin-0.0.2-py3-none-any.whl size=4306 sha256=d63cb05cad06c7ccaeacda0cd6c597d29bc629b9626ed88445ffec16d49937d7\n",
            "  Stored in directory: /tmp/pip-ephem-wheel-cache-6emzxvv7/wheels/68/c9/44/586a1f4aeb1b51f699323c9ef4675bede773f0a54074c8dd2c\n",
            "Successfully built NVCCPlugin\n",
            "Installing collected packages: NVCCPlugin\n",
            "Successfully installed NVCCPlugin-0.0.2\n",
            "created output directory at /content/src\n",
            "Out bin /content/result.out\n"
          ]
        }
      ]
    },
    {
      "cell_type": "markdown",
      "source": [
        "#Code"
      ],
      "metadata": {
        "id": "5Lw65L0G99TW"
      }
    },
    {
      "cell_type": "code",
      "source": [
        "!git clone https://github.com/mastqe/tsplib.git"
      ],
      "metadata": {
        "colab": {
          "base_uri": "https://localhost:8080/"
        },
        "id": "Pzqmy6Z1G0ZQ",
        "outputId": "251542dc-dbfa-454d-a17f-edb499d572fd"
      },
      "execution_count": null,
      "outputs": [
        {
          "output_type": "stream",
          "name": "stdout",
          "text": [
            "Cloning into 'tsplib'...\n",
            "remote: Enumerating objects: 124, done.\u001b[K\n",
            "remote: Total 124 (delta 0), reused 0 (delta 0), pack-reused 124\u001b[K\n",
            "Receiving objects: 100% (124/124), 2.02 MiB | 9.83 MiB/s, done.\n",
            "Resolving deltas: 100% (6/6), done.\n"
          ]
        }
      ]
    },
    {
      "cell_type": "markdown",
      "source": [
        "###Code to read TSPLIB instances\n",
        "\n",
        "\n",
        "\n"
      ],
      "metadata": {
        "id": "Yr4keply-C2o"
      }
    },
    {
      "cell_type": "code",
      "source": [
        "%%writefile tsp_instance.h\n",
        "#ifndef TSP_TSP_INSTANCE_H\n",
        "#define TSP_TSP_INSTANCE_H\n",
        "\n",
        "#define ASCII_SLASH 47\n",
        "#define ASCII_0 48\n",
        "#define ASCII_9 57\n",
        "\n",
        "typedef struct node_t{\n",
        "    int id;\n",
        "    int x;\n",
        "    int y;\n",
        "} Node;\n",
        "\n",
        "typedef struct TSPInstance {\n",
        "    const int numOfNodes;\n",
        "    Node *nodes;\n",
        "    float *edgeCosts;\n",
        "} TSPInstance;\n",
        "\n",
        "\n",
        "TSPInstance tsp_instance_read(const char *filename);\n",
        "void tsp_instance_free(TSPInstance *instance);\n",
        "\n",
        "#endif //TSP_TSP_INSTANCE_H"
      ],
      "metadata": {
        "colab": {
          "base_uri": "https://localhost:8080/"
        },
        "id": "OjwZWOg0-MrC",
        "outputId": "51a78264-b3cc-4345-dc35-ec90e9d6bddb"
      },
      "execution_count": null,
      "outputs": [
        {
          "output_type": "stream",
          "name": "stdout",
          "text": [
            "Writing tsp_instance.h\n"
          ]
        }
      ]
    },
    {
      "cell_type": "code",
      "source": [
        "%%writefile tsp_instance.c\n",
        "#include <stdio.h>\n",
        "#include <stdlib.h>\n",
        "#include <math.h>\n",
        "#include <string.h>\n",
        "\n",
        "#include \"tsp_instance.h\"\n",
        "\n",
        "\n",
        "TSPInstance tsp_instance_read(const char *filename) {\n",
        "    printf(\"Reading tsplib instances from %s\\n\", filename);\n",
        "\n",
        "    FILE *f = fopen(filename, \"r\");\n",
        "    if (f == NULL) {\n",
        "        printf(\"Error reading file!\");\n",
        "        exit(1);\n",
        "    }\n",
        "\n",
        "    unsigned long filename_len = strlen(filename);\n",
        "    const char *s = filename + filename_len; // pointer to last char\n",
        "    for (; *s != ASCII_SLASH; s--); // scan backwards until / is found\n",
        "    for (; *s < ASCII_0 || *s > ASCII_9; s++); // scan forward until a digit is found\n",
        "\n",
        "    int num_of_nodes = strtol(s, NULL, 10);\n",
        "\n",
        "    char line_buff[64];\n",
        "    Node *nodes = malloc(sizeof *nodes * num_of_nodes);\n",
        "\n",
        "    while (fgets(line_buff, sizeof line_buff, f) != NULL &&\n",
        "           strncmp(line_buff, \"NODE_COORD_SECTION\", strlen(\"NODE_COORD_SECTION\")) != 0);\n",
        "\n",
        "    while (fgets(line_buff, sizeof line_buff, f) != NULL && strncmp(line_buff, \"EOF\", 3) != 0) {\n",
        "\n",
        "        int progr, x, y;\n",
        "\n",
        "        char *buff_cursor;\n",
        "        progr = strtol(line_buff, &buff_cursor, 10);\n",
        "        x = strtol(buff_cursor, &buff_cursor, 10);\n",
        "        y = strtol(buff_cursor, &buff_cursor, 10);\n",
        "\n",
        "        // convert to 0-indexed\n",
        "        progr -= 1;\n",
        "\n",
        "        nodes[progr].id = progr;\n",
        "        nodes[progr].x = x;\n",
        "        nodes[progr].y = y;\n",
        "\n",
        "    }\n",
        "\n",
        "    fclose(f);\n",
        "\n",
        "    TSPInstance instance = {.numOfNodes = num_of_nodes, .nodes = nodes};\n",
        "\n",
        "    float *edge_cost = malloc(sizeof(int) * num_of_nodes * num_of_nodes);\n",
        "\n",
        "    float deltaX, deltaY;\n",
        "    Node n1, n2;\n",
        "    float weight;\n",
        "    for (int i = 0; i < num_of_nodes; i++) {\n",
        "        for (int j = i; j < num_of_nodes; j++) {\n",
        "            n1 = nodes[i];\n",
        "            n2 = nodes[j];\n",
        "\n",
        "            deltaX = (float) (n1.x - n2.x);\n",
        "            deltaY = (float) (n1.y - n2.y);\n",
        "\n",
        "            weight = floorf(sqrtf(powf(deltaX, 2) + powf(deltaY,2)));\n",
        "\n",
        "            edge_cost[n1.id * num_of_nodes + n2.id] = weight;\n",
        "            edge_cost[n2.id * num_of_nodes + n1.id] = weight;\n",
        "        }\n",
        "    }\n",
        "\n",
        "    instance.edgeCosts = edge_cost;\n",
        "    return instance;\n",
        "}\n",
        "\n",
        "void tsp_instance_free(TSPInstance *instance) {\n",
        "    free(instance->nodes);\n",
        "    free(instance->edgeCosts);\n",
        "}"
      ],
      "metadata": {
        "colab": {
          "base_uri": "https://localhost:8080/"
        },
        "id": "MJh4zi2eAQec",
        "outputId": "6248962c-e3c7-42d5-b021-061ceadbf4ce"
      },
      "execution_count": null,
      "outputs": [
        {
          "output_type": "stream",
          "name": "stdout",
          "text": [
            "Writing tsp_instance.c\n"
          ]
        }
      ]
    },
    {
      "cell_type": "markdown",
      "source": [
        "##Sequential implementation"
      ],
      "metadata": {
        "id": "jl0p9CZ4BAVY"
      }
    },
    {
      "cell_type": "code",
      "source": [
        "%%writefile sequential_main.c\n",
        "#include <stdio.h>\n",
        "#include <limits.h>\n",
        "#include <stdbool.h>\n",
        "#include <stdlib.h>\n",
        "#include <math.h>\n",
        "#include <time.h>\n",
        "#include \"tsp_instance.h\"\n",
        "\n",
        "#define FILENAME \"/content/tsplib/eil76.tsp\"\n",
        "#define MAX_ITERATIONS (100000)\n",
        "#define ALPHA (1.0f) // importance of pheromone trail\n",
        "#define BETA (3.0f)  // importance of heuristic visibility\n",
        "#define RHO (0.8f)\n",
        "#define Q (1.0f)\n",
        "#define PHEROMONE_LB (0.01f)\n",
        "#define STAGNATION_THRESHOLD (MAX_ITERATIONS/5) // after how many iteration without improvement do we stop\n",
        "\n",
        "\n",
        "float randf(float right) {\n",
        "    return ((float) rand() / (float) RAND_MAX) * right;\n",
        "}\n",
        "\n",
        "float pheromone_initialization(float *pheromones, const float *edge_cost, int N) {\n",
        "    /* BUILD greedy path */\n",
        "    int path[N];\n",
        "    float path_cost = 0;\n",
        "    bool visited[N];\n",
        "\n",
        "    int id_first_node = (int) random() % N;\n",
        "    visited[id_first_node] = true;\n",
        "\n",
        "    int current_node = id_first_node;\n",
        "    for (int i = 1; i < N; i++) {\n",
        "        int closest_node = -1;\n",
        "        float closest_node_cost = (float) INT_MAX;\n",
        "\n",
        "        for (int j = 0; j < N; ++j) {\n",
        "            if (!visited[j] && current_node != j && edge_cost[current_node * N + j] < closest_node_cost) {\n",
        "                closest_node_cost = edge_cost[current_node * N + j];\n",
        "                closest_node = j;\n",
        "            }\n",
        "        }\n",
        "\n",
        "        path[current_node] = closest_node;\n",
        "        visited[closest_node] = true;\n",
        "        current_node = closest_node;\n",
        "        path_cost += closest_node_cost;\n",
        "    }\n",
        "\n",
        "    /* set pheromone to N/greedy path cost */\n",
        "    for (int i = 0; i < N * N; ++i)\n",
        "        pheromones[i] = (float) N / (float) path_cost;\n",
        "\n",
        "    \n",
        "}\n",
        "\n",
        "void build_paths(int *ant_paths_mx, float *pheromone_trails, float *edge_costs, int N) {\n",
        "    for (int i = 0; i < N * N; i++) ant_paths_mx[i] = -1;\n",
        "\n",
        "    bool unvisited_nodes_mx[N * N];\n",
        "    for (int i = 0; i < N * N; i++) unvisited_nodes_mx[i] = true;\n",
        "\n",
        "    float edge_fitness_mx[N * N];\n",
        "    for (int r = 0; r < N; ++r)\n",
        "        for (int c = 0; c < N; ++c)\n",
        "            edge_fitness_mx[r * N + c] =\n",
        "                    r == c ? 0 : powf(pheromone_trails[r * N + c], ALPHA) / powf(edge_costs[r * N + c], BETA);\n",
        "\n",
        "    // build every ant's path\n",
        "    for (int ant_id = 0; ant_id < N; ++ant_id) {\n",
        "\n",
        "        // select random starting node\n",
        "        int id_first_node = (int) random() % N;\n",
        "        unvisited_nodes_mx[ant_id * N + id_first_node] = false;\n",
        "\n",
        "        int current_node_id = id_first_node;\n",
        "        for (int visited_nodes = 1; visited_nodes < N; visited_nodes++) {\n",
        "            float prefix_sum[N];\n",
        "            for (int j = 0; j < N; j++) {\n",
        "                bool mask = unvisited_nodes_mx[ant_id * N + j];\n",
        "                float fitness = edge_fitness_mx[current_node_id * N + j];\n",
        "                prefix_sum[j] = (j > 0 ? prefix_sum[j - 1] : 0.0f) + ((float) mask * fitness);\n",
        "            }\n",
        "\n",
        "            float random_number = randf(prefix_sum[N - 1]);\n",
        "            for (int j = 0; j < N; ++j) {\n",
        "                float ps_prev = j > 0 ? prefix_sum[j - 1] : 0.0f;\n",
        "                if (random_number >= ps_prev && random_number < prefix_sum[j]) {\n",
        "                    ant_paths_mx[ant_id * N + current_node_id] = j;\n",
        "                    unvisited_nodes_mx[ant_id * N + j] = false;\n",
        "                    current_node_id = j;\n",
        "                    break;\n",
        "                }\n",
        "            }\n",
        "        }\n",
        "\n",
        "        ant_paths_mx[ant_id * N + current_node_id] = id_first_node;\n",
        "    }\n",
        "}\n",
        "\n",
        "int update_paths_len(const int *ant_paths_mx, float *ant_paths_len, const float *edge_cost, int N) {\n",
        "    // keep track of the ant id with the shortest path\n",
        "    int best_path_ant_id = -1;\n",
        "    float best_path = (float) INT_MAX;\n",
        "\n",
        "    for (int ant_id = 0; ant_id < N; ++ant_id) {\n",
        "        // calculate cost of ant(ant_id) path\n",
        "        ant_paths_len[ant_id] = 0;\n",
        "        int current_node = 0;\n",
        "        int next_node = ant_paths_mx[ant_id * N + current_node];\n",
        "\n",
        "        for (int i = 0; i < N; ++i) {\n",
        "            ant_paths_len[ant_id] += edge_cost[current_node * N + next_node];\n",
        "            current_node = next_node;\n",
        "            next_node = ant_paths_mx[ant_id * N + current_node];\n",
        "        }\n",
        "\n",
        "        if (ant_paths_len[ant_id] < best_path) {\n",
        "            best_path = ant_paths_len[ant_id];\n",
        "            best_path_ant_id = ant_id;\n",
        "        }\n",
        "    }\n",
        "\n",
        "    return best_path_ant_id;\n",
        "}\n",
        "\n",
        "void pheromone_evaporation(float *pheromones, int N) {\n",
        "    for (int i = 0; i < N * N; ++i)\n",
        "        pheromones[i] = fmaxf((1 - RHO) * pheromones[i], PHEROMONE_LB);\n",
        "}\n",
        "\n",
        "void pheromone_update(float *pheromones, const int *paths, const float *paths_len, int N) {\n",
        "    for (int i = 0; i < N; ++i) {\n",
        "        for (int j = i; j < N; ++j) {\n",
        "            float previous_pheromone_value = pheromones[i * N + j];\n",
        "            float addition = 0.0f;\n",
        "            for (int ant_id = 0; ant_id < N; ++ant_id)\n",
        "                // if edge (i,j) is in path of ant ant_id\n",
        "                if (paths[ant_id * N + i] == j)\n",
        "                    addition += Q / (float) paths_len[ant_id];\n",
        "\n",
        "\n",
        "            pheromones[i * N + j] = fmaxf(previous_pheromone_value + addition, PHEROMONE_LB);\n",
        "        }\n",
        "    }\n",
        "}\n",
        "\n",
        "void solve_sequential(TSPInstance instance) {\n",
        "    int N = instance.numOfNodes;\n",
        "    float pheromone_mx[N * N];\n",
        "    int paths_mx[N * N];\n",
        "    float paths_len[N];\n",
        "    int best_path[N];\n",
        "    float best_path_len = (float) INT_MAX;\n",
        "\n",
        "    pheromone_initialization(pheromone_mx, instance.edgeCosts, N);\n",
        "    int stagnation_counter = 0;\n",
        "    for (int iter = 0; iter < MAX_ITERATIONS && stagnation_counter < STAGNATION_THRESHOLD; ++iter, ++stagnation_counter) {\n",
        "        printf(\"Generation %d of %d\", iter + 1, MAX_ITERATIONS);\n",
        "        fflush(stdout);\n",
        "      \n",
        "        build_paths(paths_mx, pheromone_mx, instance.edgeCosts, N);\n",
        "        int current_iteration_best_ant = update_paths_len(paths_mx, paths_len, instance.edgeCosts, N);\n",
        "\n",
        "        pheromone_evaporation(pheromone_mx, N);\n",
        "        pheromone_update(pheromone_mx, paths_mx, paths_len, N);\n",
        "\n",
        "        if (paths_len[current_iteration_best_ant] < best_path_len) {\n",
        "            best_path_len = paths_len[current_iteration_best_ant];\n",
        "\n",
        "            // save best path\n",
        "            for (int l = 0; l < instance.numOfNodes; ++l)\n",
        "                best_path[l] = paths_mx[current_iteration_best_ant * N + l];\n",
        "\n",
        "            // there's an improvement reset stagnation counter\n",
        "            stagnation_counter = 0;\n",
        "        }\n",
        "\n",
        "        printf(\"\\r\");\n",
        "        fflush(stdout);\n",
        "    }\n",
        "\n",
        "    char *prefix = stagnation_counter == STAGNATION_THRESHOLD ? \"Stopped for stagnation!\\n\" : \"\";\n",
        "    printf(\"%sBest Path has len: %f\\n\", prefix, best_path_len);\n",
        "    for (int j = 0; j < instance.numOfNodes; ++j) printf(\"%d,\", best_path[j] + 1);\n",
        "    printf(\"\\n\");\n",
        "    fflush(stdout);\n",
        "}\n",
        "\n",
        "int main() {\n",
        "    srand(time(NULL));\n",
        "    TSPInstance instance = tsp_instance_read(FILENAME);\n",
        "    solve_sequential(instance);\n",
        "    tsp_instance_free(&instance);\n",
        "    return 0;\n",
        "}"
      ],
      "metadata": {
        "colab": {
          "base_uri": "https://localhost:8080/"
        },
        "id": "wEDt2dWFAWvq",
        "outputId": "ed82ee07-34aa-4860-bd50-9380272d2f6d"
      },
      "execution_count": null,
      "outputs": [
        {
          "output_type": "stream",
          "name": "stdout",
          "text": [
            "Writing sequential_main.c\n"
          ]
        }
      ]
    },
    {
      "cell_type": "markdown",
      "source": [
        "**compile sequential version**"
      ],
      "metadata": {
        "id": "fP-GWgy3AtvR"
      }
    },
    {
      "cell_type": "code",
      "source": [
        "%%writefile CMakeLists.txt\n",
        "cmake_minimum_required(VERSION 3.21)\n",
        "project(aco_tsp_sequential C)\n",
        "\n",
        "set(CMAKE_C_STANDARD 99)\n",
        "\n",
        "add_executable(aco_tsp_sequential sequential_main.c tsp_instance.c tsp_instance.h)\n",
        "\n",
        "target_link_libraries(${PROJECT_NAME} PUBLIC m)"
      ],
      "metadata": {
        "colab": {
          "base_uri": "https://localhost:8080/"
        },
        "id": "9VM-MoZ-Aqy_",
        "outputId": "4d81d83d-eac3-441e-857a-f5cc0b61f64b"
      },
      "execution_count": null,
      "outputs": [
        {
          "output_type": "stream",
          "name": "stdout",
          "text": [
            "Writing CMakeLists.txt\n"
          ]
        }
      ]
    },
    {
      "cell_type": "code",
      "source": [
        "!mkdir cmake_build_debug\n",
        "!cd cmake_build_debug\n",
        "!cmake ../content\n",
        "!cmake --build ."
      ],
      "metadata": {
        "colab": {
          "base_uri": "https://localhost:8080/"
        },
        "id": "fFy8S9GDBcDZ",
        "outputId": "16e2bf1d-81b0-49c4-d62e-353b1629a15a"
      },
      "execution_count": null,
      "outputs": [
        {
          "output_type": "stream",
          "name": "stdout",
          "text": [
            "-- The C compiler identification is GNU 7.5.0\n",
            "-- Detecting C compiler ABI info\n",
            "-- Detecting C compiler ABI info - done\n",
            "-- Check for working C compiler: /usr/bin/cc - skipped\n",
            "-- Detecting C compile features\n",
            "-- Detecting C compile features - done\n",
            "-- Configuring done\n",
            "-- Generating done\n",
            "-- Build files have been written to: /content\n",
            "[ 33%] \u001b[32mBuilding C object CMakeFiles/aco_tsp_sequential.dir/sequential_main.c.o\u001b[0m\n",
            "[ 66%] \u001b[32mBuilding C object CMakeFiles/aco_tsp_sequential.dir/tsp_instance.c.o\u001b[0m\n",
            "[100%] \u001b[32m\u001b[1mLinking C executable aco_tsp_sequential\u001b[0m\n",
            "[100%] Built target aco_tsp_sequential\n"
          ]
        }
      ]
    },
    {
      "cell_type": "code",
      "source": [
        "!./aco_tsp_sequential"
      ],
      "metadata": {
        "colab": {
          "base_uri": "https://localhost:8080/"
        },
        "id": "gsgW87ZJB1Xh",
        "outputId": "5f979061-1a36-4bbf-a354-677bc917c74a"
      },
      "execution_count": null,
      "outputs": [
        {
          "output_type": "stream",
          "name": "stdout",
          "text": [
            "Reading tsplib instances from /content/tsplib/eil76.tsp\n",
            "Stopped for stagnation!\n",
            "Best Path has len: 659.000000\n",
            "51,30,12,45,15,74,53,35,32,58,31,17,27,59,57,33,40,24,14,37,47,61,56,49,50,67,54,21,52,5,55,44,73,46,7,69,48,10,9,63,42,43,1,3,29,8,36,26,23,18,68,34,65,19,25,22,13,72,66,70,64,2,16,41,38,11,76,6,71,20,60,39,62,28,4,75,\n"
          ]
        }
      ]
    },
    {
      "cell_type": "markdown",
      "source": [
        "##GPU implementation"
      ],
      "metadata": {
        "id": "ns594U-lTx8k"
      }
    },
    {
      "cell_type": "code",
      "source": [
        "%%cuda --name hello.cu\n",
        "#include <stdio.h>\n",
        "#include <iostream>\n",
        "\n",
        "using namespace std;\n",
        "\n",
        "__global__ void helloFromGPU (void) {\n",
        "    printf(\"Hello World from GPU!\\n\");\n",
        "}\n",
        "\n",
        "int main(void) {\n",
        "    // # hello from GPU \n",
        "    cout << \"Hello World from CPU!\" << endl;\n",
        "    cudaSetDevice(1);\n",
        "    helloFromGPU <<<1, 10>>>();\n",
        "    cudaDeviceSynchronize();\n",
        "    return 0;\n",
        "}"
      ],
      "metadata": {
        "id": "0xAWDFX-79iX",
        "colab": {
          "base_uri": "https://localhost:8080/",
          "height": 35
        },
        "outputId": "dedf97c7-a811-4a1d-e1fa-72071fc48f2b"
      },
      "execution_count": null,
      "outputs": [
        {
          "output_type": "execute_result",
          "data": {
            "text/plain": [
              "'File written in /content/src/hello.cu'"
            ],
            "application/vnd.google.colaboratory.intrinsic+json": {
              "type": "string"
            }
          },
          "metadata": {},
          "execution_count": 11
        }
      ]
    },
    {
      "cell_type": "code",
      "source": [
        "%%shell\n",
        "nvcc -arch=sm_37 src/hello.cu -o hello\n",
        "./hello"
      ],
      "metadata": {
        "id": "gReSy-8y8AG3",
        "colab": {
          "base_uri": "https://localhost:8080/"
        },
        "outputId": "2e9726ea-8cdf-47ca-9a08-3c7276119471"
      },
      "execution_count": null,
      "outputs": [
        {
          "output_type": "stream",
          "name": "stdout",
          "text": [
            "nvcc warning : The 'compute_35', 'compute_37', 'compute_50', 'sm_35', 'sm_37' and 'sm_50' architectures are deprecated, and may be removed in a future release (Use -Wno-deprecated-gpu-targets to suppress warning).\n",
            "Hello World from CPU!\n"
          ]
        },
        {
          "output_type": "execute_result",
          "data": {
            "text/plain": [
              ""
            ]
          },
          "metadata": {},
          "execution_count": 12
        }
      ]
    }
  ]
}
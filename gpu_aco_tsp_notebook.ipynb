{
  "nbformat": 4,
  "nbformat_minor": 0,
  "metadata": {
    "colab": {
      "provenance": [],
      "toc_visible": true,
      "include_colab_link": true
    },
    "kernelspec": {
      "name": "python3",
      "display_name": "Python 3"
    },
    "language_info": {
      "name": "python"
    },
    "gpuClass": "standard",
    "accelerator": "GPU"
  },
  "cells": [
    {
      "cell_type": "markdown",
      "metadata": {
        "id": "view-in-github",
        "colab_type": "text"
      },
      "source": [
        "<a href=\"https://colab.research.google.com/github/antoniobelotti/gpu_aco_tsp/blob/master/gpu_aco_tsp_notebook.ipynb\" target=\"_parent\"><img src=\"https://colab.research.google.com/assets/colab-badge.svg\" alt=\"Open In Colab\"/></a>"
      ]
    },
    {
      "cell_type": "code",
      "source": [
        "!cat /proc/cpuinfo | grep \"model name\""
      ],
      "metadata": {
        "colab": {
          "base_uri": "https://localhost:8080/"
        },
        "id": "dNgqBBnc6YuA",
        "outputId": "0a8e952f-37b7-4233-bc14-51746527dc57"
      },
      "execution_count": 1,
      "outputs": [
        {
          "output_type": "stream",
          "name": "stdout",
          "text": [
            "model name\t: Intel(R) Xeon(R) CPU @ 2.00GHz\n",
            "model name\t: Intel(R) Xeon(R) CPU @ 2.00GHz\n"
          ]
        }
      ]
    },
    {
      "cell_type": "code",
      "execution_count": 2,
      "metadata": {
        "id": "vcrTWUB87XmP",
        "colab": {
          "base_uri": "https://localhost:8080/"
        },
        "outputId": "b3aea897-1e2a-464d-fa04-42fba8aae4f5"
      },
      "outputs": [
        {
          "output_type": "stream",
          "name": "stdout",
          "text": [
            "Mon Dec  5 10:13:48 2022       \n",
            "+-----------------------------------------------------------------------------+\n",
            "| NVIDIA-SMI 460.32.03    Driver Version: 460.32.03    CUDA Version: 11.2     |\n",
            "|-------------------------------+----------------------+----------------------+\n",
            "| GPU  Name        Persistence-M| Bus-Id        Disp.A | Volatile Uncorr. ECC |\n",
            "| Fan  Temp  Perf  Pwr:Usage/Cap|         Memory-Usage | GPU-Util  Compute M. |\n",
            "|                               |                      |               MIG M. |\n",
            "|===============================+======================+======================|\n",
            "|   0  Tesla T4            Off  | 00000000:00:04.0 Off |                    0 |\n",
            "| N/A   40C    P0    26W /  70W |      0MiB / 15109MiB |      0%      Default |\n",
            "|                               |                      |                  N/A |\n",
            "+-------------------------------+----------------------+----------------------+\n",
            "                                                                               \n",
            "+-----------------------------------------------------------------------------+\n",
            "| Processes:                                                                  |\n",
            "|  GPU   GI   CI        PID   Type   Process name                  GPU Memory |\n",
            "|        ID   ID                                                   Usage      |\n",
            "|=============================================================================|\n",
            "|  No running processes found                                                 |\n",
            "+-----------------------------------------------------------------------------+\n"
          ]
        }
      ],
      "source": [
        "!nvidia-smi"
      ]
    },
    {
      "cell_type": "code",
      "source": [
        "!nvcc --version"
      ],
      "metadata": {
        "id": "mAXh_1Eq7rG8",
        "colab": {
          "base_uri": "https://localhost:8080/"
        },
        "outputId": "958409ba-862c-4e94-e44c-adefba85f54a"
      },
      "execution_count": 3,
      "outputs": [
        {
          "output_type": "stream",
          "name": "stdout",
          "text": [
            "nvcc: NVIDIA (R) Cuda compiler driver\n",
            "Copyright (c) 2005-2021 NVIDIA Corporation\n",
            "Built on Sun_Feb_14_21:12:58_PST_2021\n",
            "Cuda compilation tools, release 11.2, V11.2.152\n",
            "Build cuda_11.2.r11.2/compiler.29618528_0\n"
          ]
        }
      ]
    },
    {
      "cell_type": "markdown",
      "source": [
        "#Setup"
      ],
      "metadata": {
        "id": "cOwUP61S90V5"
      }
    },
    {
      "cell_type": "markdown",
      "source": [
        "![immagine.png](data:image/png;base64,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)"
      ],
      "metadata": {
        "id": "APLOYaQBSoqv"
      }
    },
    {
      "cell_type": "code",
      "source": [
        "# Comment this to enable output\n",
        "%%capture \n",
        "\n",
        "# remove default colab stuff\n",
        "!rm -rf sample_data \n",
        "\n",
        "#create directory structure\n",
        "!mkdir -p src/lib/cuda\n",
        "!mkdir -p src/lib/sequential\n",
        "\n",
        "# download TSPLIB intsances\n",
        "!git clone https://github.com/mastqe/tsplib.git data\n",
        "\n",
        "# Install nvcc colab plugin\n",
        "!pip install git+https://github.com/andreinechaev/nvcc4jupyter\n",
        "%load_ext nvcc_plugin"
      ],
      "metadata": {
        "id": "U26pok5QVVlH"
      },
      "execution_count": 4,
      "outputs": []
    },
    {
      "cell_type": "markdown",
      "source": [
        "#Code"
      ],
      "metadata": {
        "id": "nO2j5EZ6XKSg"
      }
    },
    {
      "cell_type": "markdown",
      "source": [
        "##Sequential implementation"
      ],
      "metadata": {
        "id": "hfztUXOAXpew"
      }
    },
    {
      "cell_type": "markdown",
      "source": [
        "###Code to read TSPLIB instances\n",
        "\n",
        "\n",
        "\n"
      ],
      "metadata": {
        "id": "Yr4keply-C2o"
      }
    },
    {
      "cell_type": "code",
      "source": [
        "%%cuda --name lib/sequential/tsplib.h\n",
        "#ifndef TSPLIB_H\n",
        "#define TSPLIB_H\n",
        "\n",
        "#define ASCII_SLASH 47\n",
        "#define ASCII_0 48\n",
        "#define ASCII_9 57\n",
        "\n",
        "typedef struct node_t{\n",
        "    int id;\n",
        "    int x;\n",
        "    int y;\n",
        "} Node;\n",
        "\n",
        "typedef struct TSPInstance_t {\n",
        "    const int numOfNodes;\n",
        "    Node *nodes;\n",
        "    double *edgeCosts;\n",
        "} TSPInstance;\n",
        "\n",
        "\n",
        "TSPInstance tsp_instance_read(const char *filename);\n",
        "void tsp_instance_free(TSPInstance *instance);\n",
        "\n",
        "#endif //TSPLIB_H"
      ],
      "metadata": {
        "colab": {
          "base_uri": "https://localhost:8080/",
          "height": 35
        },
        "id": "OjwZWOg0-MrC",
        "outputId": "90c369aa-9230-4e40-fa38-17517557fca9"
      },
      "execution_count": 5,
      "outputs": [
        {
          "output_type": "execute_result",
          "data": {
            "text/plain": [
              "'File written in /content/src/lib/sequential/tsplib.h'"
            ],
            "application/vnd.google.colaboratory.intrinsic+json": {
              "type": "string"
            }
          },
          "metadata": {},
          "execution_count": 5
        }
      ]
    },
    {
      "cell_type": "code",
      "source": [
        "%%cuda --name lib/sequential/tsplib.cu\n",
        "#include <stdio.h>\n",
        "#include <stdlib.h>\n",
        "#include <math.h>\n",
        "#include <string.h>\n",
        "\n",
        "#include \"tsplib.h\"\n",
        "\n",
        "\n",
        "TSPInstance tsp_instance_read(const char *filename) {\n",
        "    printf(\"Reading tsplib instances from %s\\n\", filename);\n",
        "\n",
        "    FILE *f = fopen(filename, \"r\");\n",
        "    if (f == NULL) {\n",
        "        printf(\"Error reading file!\");\n",
        "        exit(1);\n",
        "    }\n",
        "\n",
        "    unsigned long filename_len = strlen(filename);\n",
        "    const char *s = filename + filename_len; // pointer to last char\n",
        "    for (; *s != ASCII_SLASH; s--); // scan backwards until / is found\n",
        "    for (; *s < ASCII_0 || *s > ASCII_9; s++); // scan forward until a digit is found\n",
        "\n",
        "    int num_of_nodes = strtol(s, NULL, 10);\n",
        "\n",
        "    char line_buff[64];\n",
        "    Node *nodes = malloc(sizeof *nodes * num_of_nodes);\n",
        "\n",
        "    while (fgets(line_buff, sizeof line_buff, f) != NULL &&\n",
        "           strncmp(line_buff, \"NODE_COORD_SECTION\", strlen(\"NODE_COORD_SECTION\")) != 0);\n",
        "\n",
        "    while (fgets(line_buff, sizeof line_buff, f) != NULL && strncmp(line_buff, \"EOF\", 3) != 0) {\n",
        "\n",
        "        int progr, x, y;\n",
        "\n",
        "        char *buff_cursor;\n",
        "        progr = strtol(line_buff, &buff_cursor, 10);\n",
        "        x = strtol(buff_cursor, &buff_cursor, 10);\n",
        "        y = strtol(buff_cursor, &buff_cursor, 10);\n",
        "\n",
        "        // convert to 0-indexed\n",
        "        progr -= 1;\n",
        "\n",
        "        nodes[progr].id = progr;\n",
        "        nodes[progr].x = x;\n",
        "        nodes[progr].y = y;\n",
        "\n",
        "    }\n",
        "\n",
        "    fclose(f);\n",
        "\n",
        "    TSPInstance instance = {.numOfNodes = num_of_nodes, .nodes = nodes};\n",
        "\n",
        "    double *edge_cost = malloc(sizeof(double) * num_of_nodes * num_of_nodes);\n",
        "\n",
        "    double deltaX, deltaY, weight;\n",
        "    Node n1, n2;\n",
        "    for (int i = 0; i < num_of_nodes; i++) {\n",
        "        for (int j = i; j < num_of_nodes; j++) {\n",
        "            n1 = nodes[i];\n",
        "            n2 = nodes[j];\n",
        "\n",
        "            deltaX = (double) (n1.x - n2.x);\n",
        "            deltaY = (double) (n1.y - n2.y);\n",
        "\n",
        "            weight = floor(sqrt(pow(deltaX, 2) + pow(deltaY,2)));\n",
        "\n",
        "            // different nodes in the same position. Set very small distance \n",
        "            // instead of 0 to prevent math errors later\n",
        "            if(weight == 0 && i != j)\n",
        "              weight = pow(1, -50);\n",
        "\n",
        "            edge_cost[n1.id * num_of_nodes + n2.id] = weight;\n",
        "            edge_cost[n2.id * num_of_nodes + n1.id] = weight;\n",
        "        }\n",
        "    }\n",
        "    instance.edgeCosts = edge_cost;\n",
        "    return instance;\n",
        "}\n",
        "\n",
        "void tsp_instance_free(TSPInstance *instance) {\n",
        "    free(instance->nodes);\n",
        "    free(instance->edgeCosts);\n",
        "}"
      ],
      "metadata": {
        "colab": {
          "base_uri": "https://localhost:8080/",
          "height": 35
        },
        "id": "MJh4zi2eAQec",
        "outputId": "75c0fd8b-daca-4b8b-f41d-b06edca1154b"
      },
      "execution_count": 6,
      "outputs": [
        {
          "output_type": "execute_result",
          "data": {
            "text/plain": [
              "'File written in /content/src/lib/sequential/tsplib.cu'"
            ],
            "application/vnd.google.colaboratory.intrinsic+json": {
              "type": "string"
            }
          },
          "metadata": {},
          "execution_count": 6
        }
      ]
    },
    {
      "cell_type": "code",
      "source": [
        "!mv src/lib/sequential/tsplib.cu src/lib/sequential/tsplib.c"
      ],
      "metadata": {
        "id": "x3k0OZg0KHCx"
      },
      "execution_count": 7,
      "outputs": []
    },
    {
      "cell_type": "markdown",
      "source": [
        "###Algorithm"
      ],
      "metadata": {
        "id": "jl0p9CZ4BAVY"
      }
    },
    {
      "cell_type": "code",
      "source": [
        "%%cuda --name lib/sequential/aco_tsp_sequential.h\n",
        "#ifndef ACO_TSP_SEQUENTIAL_H\n",
        "#define ACO_TSP_SEQUENTIAL_H\n",
        "\n",
        "#include \"tsplib.h\"\n",
        "\n",
        "void aco_tsp_sequential(\n",
        "    TSPInstance instance,\n",
        "    const float ALPHA,\n",
        "    const float BETA, \n",
        "    const float RHO, \n",
        "    const float Q, \n",
        "    const float PHEROMONE_LB, \n",
        "    const int MAX_ITERATIONS,\n",
        "    const int STAGNATION_THRESHOLD\n",
        ");\n",
        "\n",
        "#endif // ACO_TSP_SEQUENTIAL_H"
      ],
      "metadata": {
        "colab": {
          "base_uri": "https://localhost:8080/",
          "height": 35
        },
        "id": "JrsnhpLyaLMS",
        "outputId": "a8666882-22fd-41a3-e726-0302ca7e6ab6"
      },
      "execution_count": 8,
      "outputs": [
        {
          "output_type": "execute_result",
          "data": {
            "text/plain": [
              "'File written in /content/src/lib/sequential/aco_tsp_sequential.h'"
            ],
            "application/vnd.google.colaboratory.intrinsic+json": {
              "type": "string"
            }
          },
          "metadata": {},
          "execution_count": 8
        }
      ]
    },
    {
      "cell_type": "code",
      "source": [
        "# cuda plugin requires .cu extension... change it later to .c\n",
        "# using %%cuda instead of %%writefile becaus writefile disables syntax highlighting\n",
        "\n",
        "%%cuda --name lib/sequential/aco_tsp_sequential.cu\n",
        "#include <stdio.h>\n",
        "#include <limits.h>\n",
        "#include <stdbool.h>\n",
        "#include <stdlib.h>\n",
        "#include <math.h>\n",
        "#include <time.h>\n",
        "\n",
        "#include \"aco_tsp_sequential.h\"\n",
        "\n",
        "double randf(double right) {\n",
        "    return ((double) rand() / (double) RAND_MAX) * right;\n",
        "}\n",
        "\n",
        "void pheromone_initialization(double *pheromones, const double *edge_cost, int N) {\n",
        "    /* BUILD greedy path */\n",
        "    int path[N];\n",
        "    double path_cost = 0;\n",
        "    bool visited[N];\n",
        "\n",
        "    int id_first_node = (int) random() % N;\n",
        "    visited[id_first_node] = true;\n",
        "\n",
        "    int current_node = id_first_node;\n",
        "    for (int i = 1; i < N; i++) {\n",
        "        int closest_node = -1;\n",
        "        double closest_node_cost = (double) INT_MAX;\n",
        "\n",
        "        for (int j = 0; j < N; ++j) {\n",
        "            if (!visited[j] && current_node != j && edge_cost[current_node * N + j] < closest_node_cost) {\n",
        "                closest_node_cost = edge_cost[current_node * N + j];\n",
        "                closest_node = j;\n",
        "            }\n",
        "        }\n",
        "\n",
        "        path[current_node] = closest_node;\n",
        "        visited[closest_node] = true;\n",
        "        current_node = closest_node;\n",
        "        path_cost += closest_node_cost;\n",
        "    }\n",
        "\n",
        "    /* set pheromone to N/greedy path cost */\n",
        "    for (int i = 0; i < N * N; ++i)\n",
        "        pheromones[i] = (double) N / (double) path_cost;\n",
        "}\n",
        "\n",
        "void build_paths(int *ant_paths_mx, double *pheromone_trails, double *edge_costs, int N, const double ALPHA, const double BETA) {\n",
        "    for (int i = 0; i < N * N; i++) ant_paths_mx[i] = -1;\n",
        "\n",
        "    bool *unvisited_nodes_mx = malloc(sizeof *unvisited_nodes_mx * N * N);\n",
        "    for (int i = 0; i < N * N; i++) unvisited_nodes_mx[i] = true;\n",
        "\n",
        "    double *edge_fitness_mx = malloc(sizeof *edge_fitness_mx *N * N);\n",
        "    for (int r = 0; r < N; ++r)\n",
        "      for (int c = 0; c < N; ++c)\n",
        "        edge_fitness_mx[r * N + c] =\n",
        "          r == c ? 0 : powf(pheromone_trails[r * N + c], ALPHA) / powf(edge_costs[r * N + c], BETA);\n",
        "\n",
        "    // build every ant's path\n",
        "    for (int ant_id = 0; ant_id < N; ++ant_id) {\n",
        "        // select random starting node\n",
        "        int id_first_node = (int) random() % N;\n",
        "        unvisited_nodes_mx[ant_id * N + id_first_node] = false;\n",
        "\n",
        "        int current_node_id = id_first_node;\n",
        "        for (int visited_nodes = 1; visited_nodes < N; visited_nodes++) {\n",
        "            double prefix_sum[N];\n",
        "            for (int j = 0; j < N; j++) {\n",
        "                bool mask = unvisited_nodes_mx[ant_id * N + j];\n",
        "                double fitness = edge_fitness_mx[current_node_id * N + j];\n",
        "                prefix_sum[j] = (j > 0 ? prefix_sum[j - 1] : 0.0f) + ((double) mask * fitness);\n",
        "            }\n",
        "\n",
        "            double random_number = randf(prefix_sum[N - 1]);\n",
        "            for (int j = 0; j < N; ++j) {\n",
        "                double ps_prev = j > 0 ? prefix_sum[j - 1] : 0.0f;\n",
        "                if (random_number >= ps_prev && random_number < prefix_sum[j]) {\n",
        "                    ant_paths_mx[ant_id * N + current_node_id] = j;\n",
        "                    unvisited_nodes_mx[ant_id * N + j] = false;\n",
        "                    current_node_id = j;\n",
        "                    break;\n",
        "                }\n",
        "            }\n",
        "        }\n",
        "\n",
        "        ant_paths_mx[ant_id * N + current_node_id] = id_first_node;\n",
        "    }\n",
        "\n",
        "    free(edge_fitness_mx);\n",
        "    free(unvisited_nodes_mx);\n",
        "}\n",
        "\n",
        "int update_paths_len(const int *ant_paths_mx, double *ant_paths_len, const double *edge_cost, int N) {\n",
        "    // keep track of the ant id with the shortest path\n",
        "    int best_path_ant_id = -1;\n",
        "    double best_path = (double) INT_MAX;\n",
        "\n",
        "    for (int ant_id = 0; ant_id < N; ++ant_id) {\n",
        "        // calculate cost of ant(ant_id) path\n",
        "        ant_paths_len[ant_id] = 0;\n",
        "        int current_node = 0;\n",
        "        int next_node = ant_paths_mx[ant_id * N + current_node];\n",
        "\n",
        "        for (int i = 0; i < N; ++i) {\n",
        "            ant_paths_len[ant_id] += edge_cost[current_node * N + next_node];\n",
        "            current_node = next_node;\n",
        "            next_node = ant_paths_mx[ant_id * N + current_node];\n",
        "        }\n",
        "\n",
        "        if (ant_paths_len[ant_id] < best_path) {\n",
        "            best_path = ant_paths_len[ant_id];\n",
        "            best_path_ant_id = ant_id;\n",
        "        }\n",
        "    }\n",
        "\n",
        "    return best_path_ant_id;\n",
        "}\n",
        "\n",
        "void pheromone_evaporation(double *pheromones, int N, const double RHO, const double PHEROMONE_LB) {\n",
        "    for (int i = 0; i < N * N; ++i)\n",
        "        pheromones[i] = fmaxf((1 - RHO) * pheromones[i], PHEROMONE_LB);\n",
        "}\n",
        "\n",
        "void pheromone_update(double *pheromones, const int *paths, const double *paths_len, int N, const double Q, const double PHEROMONE_LB) {\n",
        "    for (int i = 0; i < N; ++i) {\n",
        "        for (int j = i; j < N; ++j) {\n",
        "            double previous_pheromone_value = pheromones[i * N + j];\n",
        "            double addition = 0.0f;\n",
        "            for (int ant_id = 0; ant_id < N; ++ant_id)\n",
        "                // if edge (i,j) is in path of ant ant_id\n",
        "                if (paths[ant_id * N + i] == j)\n",
        "                    addition += Q / (double) paths_len[ant_id];\n",
        "\n",
        "\n",
        "            pheromones[i * N + j] = fmaxf(previous_pheromone_value + addition, PHEROMONE_LB);\n",
        "        }\n",
        "    }\n",
        "}\n",
        "\n",
        "void aco_tsp_sequential(\n",
        "    TSPInstance instance,\n",
        "    const float ALPHA,\n",
        "    const float BETA, \n",
        "    const float RHO, \n",
        "    const float Q, \n",
        "    const float PHEROMONE_LB, \n",
        "    const int MAX_ITERATIONS,\n",
        "    const int STAGNATION_THRESHOLD\n",
        ")\n",
        "{\n",
        "    int N = instance.numOfNodes;\n",
        "    double *pheromone_mx = malloc(sizeof *pheromone_mx * N * N);\n",
        "    int   *paths_mx = malloc(sizeof *paths_mx *N * N);\n",
        "    double paths_len[N];\n",
        "    int best_path[N];\n",
        "    double best_path_len = (double) INT_MAX;\n",
        "\n",
        "    pheromone_initialization(pheromone_mx, instance.edgeCosts, N);\n",
        "\n",
        "    int stagnationsLeft = STAGNATION_THRESHOLD;\n",
        "    int iterationsLeft = MAX_ITERATIONS;\n",
        "    while(iterationsLeft-->0 && stagnationsLeft-->0){\n",
        "        printf(\"\\tGeneration %d of %d\", MAX_ITERATIONS-iterationsLeft, MAX_ITERATIONS);\n",
        "        fflush(stdout);\n",
        "      \n",
        "        build_paths(paths_mx, pheromone_mx, instance.edgeCosts, N, ALPHA, BETA);\n",
        "        int current_iteration_best_ant = update_paths_len(paths_mx, paths_len, instance.edgeCosts, N);\n",
        "\n",
        "        pheromone_evaporation(pheromone_mx, N, RHO, PHEROMONE_LB);\n",
        "        pheromone_update(pheromone_mx, paths_mx, paths_len, N, Q, PHEROMONE_LB);\n",
        "\n",
        "        if (paths_len[current_iteration_best_ant] < best_path_len) {\n",
        "            best_path_len = paths_len[current_iteration_best_ant];\n",
        "\n",
        "            // save best path\n",
        "            for (int l = 0; l < instance.numOfNodes; ++l)\n",
        "                best_path[l] = paths_mx[current_iteration_best_ant * N + l];\n",
        "\n",
        "            // there's an improvement reset stagnation counter\n",
        "            stagnationsLeft = STAGNATION_THRESHOLD;\n",
        "        }\n",
        "\n",
        "        printf(\"\\r\");\n",
        "        fflush(stdout);\n",
        "    }\n",
        "    \n",
        "    free(pheromone_mx);\n",
        "    free(paths_mx);\n",
        "    \n",
        "    char *prefix = stagnationsLeft == -1 ? \"Stopped for stagnation!\\n\\t\" : \"\";\n",
        "    printf(\"\\n\\t%sAfter %d iterations, best Path has len: %f\\n\", prefix, MAX_ITERATIONS-iterationsLeft-1, best_path_len);\n",
        "    \n",
        "    printf(\"\\t\");\n",
        "    for (int j = 0; j < instance.numOfNodes; ++j) printf(\"%d,\", best_path[j] + 1);\n",
        "    printf(\"\\n\");\n",
        "    fflush(stdout);\n",
        "}\n"
      ],
      "metadata": {
        "colab": {
          "base_uri": "https://localhost:8080/",
          "height": 35
        },
        "id": "wEDt2dWFAWvq",
        "outputId": "c9b18222-caeb-4b09-8032-570a1062319f"
      },
      "execution_count": 9,
      "outputs": [
        {
          "output_type": "execute_result",
          "data": {
            "text/plain": [
              "'File written in /content/src/lib/sequential/aco_tsp_sequential.cu'"
            ],
            "application/vnd.google.colaboratory.intrinsic+json": {
              "type": "string"
            }
          },
          "metadata": {},
          "execution_count": 9
        }
      ]
    },
    {
      "cell_type": "code",
      "source": [
        "!mv /content/src/lib/sequential/aco_tsp_sequential.cu /content/src/lib/sequential/aco_tsp_sequential.c"
      ],
      "metadata": {
        "id": "-myfmsTlWmST"
      },
      "execution_count": 10,
      "outputs": []
    },
    {
      "cell_type": "markdown",
      "source": [
        "##GPU implementation"
      ],
      "metadata": {
        "id": "ns594U-lTx8k"
      }
    },
    {
      "cell_type": "code",
      "source": [
        "%%cuda --name lib/cuda/common.h\n",
        "#include <sys/time.h>\n",
        "#include <stdio.h>\n",
        "\n",
        "#ifndef _COMMON_H\n",
        "#define _COMMON_H\n",
        "\n",
        "#define CHECK(call)                                                            \\\n",
        "{                                                                              \\\n",
        "    const cudaError_t error = call;                                            \\\n",
        "    if (error != cudaSuccess)                                                  \\\n",
        "    {                                                                          \\\n",
        "        fprintf(stderr, \"Error: %s:%d, \", __FILE__, __LINE__);                 \\\n",
        "        fprintf(stderr, \"code: %d, reason: %s\\n\", error,                       \\\n",
        "                cudaGetErrorString(error));                                    \\\n",
        "    }                                                                          \\\n",
        "}\n",
        "\n",
        "\n",
        "#endif // _COMMON_H"
      ],
      "metadata": {
        "colab": {
          "base_uri": "https://localhost:8080/",
          "height": 35
        },
        "id": "WCmYLZwKhss1",
        "outputId": "ce321174-4df3-407c-c71e-1061aa001942"
      },
      "execution_count": 11,
      "outputs": [
        {
          "output_type": "execute_result",
          "data": {
            "text/plain": [
              "'File written in /content/src/lib/cuda/common.h'"
            ],
            "application/vnd.google.colaboratory.intrinsic+json": {
              "type": "string"
            }
          },
          "metadata": {},
          "execution_count": 11
        }
      ]
    },
    {
      "cell_type": "markdown",
      "source": [
        "### Algorithm"
      ],
      "metadata": {
        "id": "CXmGFi4EXg6x"
      }
    },
    {
      "cell_type": "code",
      "source": [
        "%%cuda --name lib/cuda/aco_tsp_cuda.h\n",
        "#ifndef ACO_TSP_CUDA_H\n",
        "#define ACO_TSP_CUDA_H\n",
        "\n",
        "#include <curand_kernel.h>\n",
        "\n",
        "#include \"../sequential/tsplib.h\"\n",
        "#include \"./common.h\"\n",
        "\n",
        "#define DIV_ROUNDUP(NUM,DEN) ((NUM +(DEN-1))/DEN)\n",
        "\n",
        "void aco_tsp_cuda(\n",
        "    TSPInstance instance, \n",
        "    const float ALPHA,\n",
        "    const float BETA, \n",
        "    const float RHO, \n",
        "    const float Q, \n",
        "    const float PHEROMONE_LB, \n",
        "    const int MAX_ITERATIONS,\n",
        "    const int STAGNATION_THRESHOLD\n",
        ");\n",
        "\n",
        "#endif // ACO_TSP_CUDA_H"
      ],
      "metadata": {
        "colab": {
          "base_uri": "https://localhost:8080/",
          "height": 35
        },
        "id": "66GSPIswefn_",
        "outputId": "46f4428d-76af-4bfe-97a3-956b1e786300"
      },
      "execution_count": 12,
      "outputs": [
        {
          "output_type": "execute_result",
          "data": {
            "text/plain": [
              "'File written in /content/src/lib/cuda/aco_tsp_cuda.h'"
            ],
            "application/vnd.google.colaboratory.intrinsic+json": {
              "type": "string"
            }
          },
          "metadata": {},
          "execution_count": 12
        }
      ]
    },
    {
      "cell_type": "code",
      "source": [
        "%%cuda --name lib/cuda/aco_tsp_cuda.cu\n",
        "\n",
        "#include <stdio.h>\n",
        "#include <iostream>\n",
        "#include <assert.h>\n",
        "#include <thrust/scan.h>\n",
        "#include <thrust/sort.h>\n",
        "#include <thrust/execution_policy.h>\n",
        "\n",
        "#include \"aco_tsp_cuda.h\"\n",
        "\n",
        "typedef enum {\n",
        "    SCAN_INCLUSIVE, SCAN_EXCLUSIVE\n",
        "} PRESCAN_TYPE_ENUM;\n",
        "\n",
        "__constant__ float Q;\n",
        "__constant__ float RHO;\n",
        "__constant__ float ALPHA;\n",
        "__constant__ float BETA;\n",
        "__constant__ float PHEROMONE_LB;\n",
        "\n",
        "\n",
        "__global__ void init_random_states(curandState *randStates, const int RAND_STATE_SIZE) {\n",
        "  const int gtid = blockIdx.x * blockDim.x + threadIdx.x;\n",
        "\n",
        "  if (gtid < RAND_STATE_SIZE)\n",
        "    curand_init(gtid, 100, 0, &randStates[gtid]);\n",
        "}\n",
        "\n",
        "__global__ void select_starting_position(\n",
        "    bool *unvisited_nodes_mx,\n",
        "    int *ant_first_node,\n",
        "    int *ant_current_position,\n",
        "    curandState *randStates,\n",
        "    const int N\n",
        ") {\n",
        "  const int antId = blockIdx.x * blockDim.x + threadIdx.x;\n",
        "\n",
        "  if (antId >= N)\n",
        "    return;\n",
        "\n",
        "  // abs is necessary because rand returns unsigned, and casting to signed results in overflow, which gives a negative number\n",
        "  const int randomNodeId = abs((int) curand(&randStates[antId]) % N);\n",
        "  ant_first_node[antId] = randomNodeId;\n",
        "  ant_current_position[antId] = randomNodeId;\n",
        "  unvisited_nodes_mx[antId * N + randomNodeId] = false;\n",
        "\n",
        "}\n",
        "\n",
        "__global__ void edge_fitness_update(\n",
        "    double *fitnessMX,\n",
        "    double *pheromoneMX,\n",
        "    double *edgeCostsMX,\n",
        "    const int N\n",
        ") {\n",
        "  const int gtid = blockIdx.x * blockDim.x + threadIdx.x;\n",
        "  if (gtid >= N * N)\n",
        "    return;\n",
        "\n",
        "  const double edgeCost = edgeCostsMX[gtid];\n",
        "  const double pheromone = pheromoneMX[gtid];\n",
        "\n",
        "  // avoid math error\n",
        "  if (edgeCost == 0 || pheromone == 0)\n",
        "    fitnessMX[gtid] = 0.0f;\n",
        "  else\n",
        "    fitnessMX[gtid] = powf(pheromone, ALPHA) / powf(edgeCost, BETA);\n",
        "}\n",
        "\n",
        "\n",
        "/*\n",
        "* cell (x,y) in originalFitness is the fitness from node x to node y\n",
        "* apply mask produces output, in which cell (x,y) is the fitness for ant x from ant(x) current position to node y\n",
        "*/\n",
        "__global__ void apply_mask(double *output, double *originalFitness, bool *mask, int *antsCurrentPosition, const int N) {\n",
        "  const int gtid = blockIdx.x * blockDim.x + threadIdx.x;\n",
        "\n",
        "  if (gtid >= N * N)\n",
        "    return;\n",
        "\n",
        "  const int antId = gtid / N;\n",
        "  const int from = antsCurrentPosition[antId];\n",
        "  const int to = gtid % N;\n",
        "\n",
        "  output[gtid] = mask[gtid] * originalFitness[from * N + to];\n",
        "}\n",
        "\n",
        "__global__ void select_node(\n",
        "    double *fitnessMX,\n",
        "    double *randomNumbers,\n",
        "    int *antPathsMx,\n",
        "    bool *unvisitedNodesMX,\n",
        "    int *antsCurrentPosition,\n",
        "    double *pathsCost,\n",
        "    double *edgeCostsMX,\n",
        "    const int N\n",
        ") {\n",
        "  const int gtid = blockDim.x * blockIdx.x + threadIdx.x;\n",
        "\n",
        "  if (gtid >= N * N)\n",
        "    return;\n",
        "\n",
        "  const int antId = gtid / N;\n",
        "  const int colId = gtid % N;\n",
        "  const double randNum = randomNumbers[antId];\n",
        "\n",
        "  const double prev = colId > 0 ? fitnessMX[gtid - 1] : 0.0f;\n",
        "  const double curr = fitnessMX[gtid];\n",
        "\n",
        "  // for the properties of the prefix sum and the range of the random number,\n",
        "  // only one thread will enter this if\n",
        "  if (randNum >= prev && randNum < curr) {\n",
        "    const int currPos = antsCurrentPosition[antId];\n",
        "    const int selectedNodeId = colId;\n",
        "\n",
        "    // add edge (currPos ---> selectedNode)\n",
        "    antPathsMx[antId * N + currPos] = selectedNodeId;\n",
        "\n",
        "    // set node as visited\n",
        "    unvisitedNodesMX[antId * N + selectedNodeId] = false;\n",
        "\n",
        "    // update ant current position\n",
        "    antsCurrentPosition[antId] = selectedNodeId;\n",
        "\n",
        "    //update current ant path cost\n",
        "    pathsCost[antId] += edgeCostsMX[currPos * N + selectedNodeId];\n",
        "  }\n",
        "}\n",
        "\n",
        "__global__ void pheromone_evaporation(double *pheromoneMX, const int N) {\n",
        "  const int gtid = blockIdx.x * blockDim.x + threadIdx.x;\n",
        "\n",
        "  if (gtid < N * N)\n",
        "    pheromoneMX[gtid] = fmaxf((1 - RHO) * pheromoneMX[gtid], PHEROMONE_LB);\n",
        "}\n",
        "\n",
        "__global__ void generate_random_number_in_range(double *fitnessMX, double *antsRandomNums, curandState *randState, const int N) {\n",
        "  const int antId = blockIdx.x * blockDim.x + threadIdx.x;\n",
        "\n",
        "  if (antId >= N)\n",
        "    return;\n",
        "\n",
        "  const double max = fitnessMX[antId * N + (N - 1)];\n",
        "  const double min = fitnessMX[antId * N];\n",
        "\n",
        "  assert(max > 0.0f && \"Range given is [0,0). This should not be possible (prescan always has one value >0)\\n\");\n",
        "\n",
        "  if (max == min) {\n",
        "    antsRandomNums[antId] = min;\n",
        "    return;\n",
        "  }\n",
        "\n",
        "  // in a loop because the range is right-exclusive. so in the case r==maxVal it generates another num\n",
        "  double r = max;\n",
        "  while (r == max)\n",
        "    r = (max - min) * (curand_uniform_double(&randState[antId])) + min;\n",
        "  \n",
        "  antsRandomNums[antId] = r;\n",
        "}\n",
        "\n",
        "__global__ void close_loop(int *antPaths, int *firstNodes, int *currentPosition, const int N) {\n",
        "  const int antId = blockDim.x * blockIdx.x + threadIdx.x;\n",
        "\n",
        "  if (antId >= N)\n",
        "    return;\n",
        "\n",
        "  const int current = currentPosition[antId];\n",
        "  const int first = firstNodes[antId];\n",
        "\n",
        "  antPaths[antId * N + current] = first;\n",
        "}\n",
        "\n",
        "__global__ void precompute_pheromone_increments(double *increments, double *pathsCosts, const int N) {\n",
        "  const int antId = blockDim.x * blockIdx.x + threadIdx.x;\n",
        "\n",
        "  if (antId < N)\n",
        "    increments[antId] = Q / pathsCosts[antId];\n",
        "}\n",
        "\n",
        "\n",
        "/*\n",
        "https://stackoverflow.com/a/39287554\n",
        "to avoid compilation error on atomicAdd for double type\n",
        "*/\n",
        "#if defined(__CUDA_ARCH__) && __CUDA_ARCH__ < 600\n",
        "static __inline__ __device__ double atomicAdd(double *address, double val) {\n",
        "  unsigned long long int* address_as_ull = (unsigned long long int*)address;\n",
        "  unsigned long long int old = *address_as_ull, assumed;\n",
        "  if (val==0.0)\n",
        "    return __longlong_as_double(old);\n",
        "  do {\n",
        "    assumed = old;\n",
        "    old = atomicCAS(address_as_ull, assumed, __double_as_longlong(val +__longlong_as_double(assumed)));\n",
        "  } while (assumed != old);\n",
        "  return __longlong_as_double(old);\n",
        "}\n",
        "#endif\n",
        "\n",
        "__global__ void pheromone_update_atomic(double *pheromone_mx, int *paths_mx, double *increments, int N) {\n",
        "  const int gtid = blockDim.x * blockIdx.x + threadIdx.x;\n",
        "\n",
        "  if (gtid >= N * N)\n",
        "    return;\n",
        "\n",
        "  const int antId = gtid / N;\n",
        "  const int from = gtid % N;\n",
        "  const int to = paths_mx[gtid];\n",
        "\n",
        "  atomicAdd(&pheromone_mx[from * N + to], increments[antId]);\n",
        "}\n",
        "\n",
        "/*\n",
        "  prescan (in-place)\n",
        "  --------------------------------------------------------------------------------\n",
        "  Tree-based algorithm for inclusive/exclusive prefix sum.\n",
        "\n",
        "  LAUNCH PARAMETERS:\n",
        "    Having N elements. Block size = B:\n",
        "      ceil(N/B)   blocks\n",
        "      b/2         threads\n",
        "      B+1         doubles in shared memory\n",
        "  PARAMETERS:\n",
        "    *data             array to prefix sum\n",
        "    BLOCKSIZE         number of elements in each block\n",
        "    *intermediateSum  output of each block final sum. Used to calculate prescan with multiple blocks.\n",
        "    SCAN_TYPE         flag to specify is sum is inlcusive or exclusive\n",
        "    ARRSIZE           number of elements in the entire array\n",
        "*/\n",
        "__global__ void prescan(\n",
        "    double *data,\n",
        "    const int BLOCKSIZE,\n",
        "    double *intermediateSum,\n",
        "    const PRESCAN_TYPE_ENUM SCAN_TYPE,\n",
        "    const int ARRSIZE) {\n",
        "\n",
        "  extern __shared__ double sm_data[];\n",
        "\n",
        "  const int TID = threadIdx.x;\n",
        "  const int GTID = blockIdx.x * blockDim.x + threadIdx.x;\n",
        "  int offset = 1;\n",
        "\n",
        "  /* Load input into shared memory. Threads that exceed the actual array size\n",
        "  *  load a zero, so they do not influence the correct scan result.\n",
        "  */\n",
        "  sm_data[2 * TID] = (2 * GTID < ARRSIZE) ? data[2 * GTID] : 0;\n",
        "  sm_data[2 * TID + 1] = (2 * GTID + 1 < ARRSIZE) ? data[2 * GTID + 1] : 0;\n",
        "\n",
        "  // upsweeep: build block-sum in place up the tree\n",
        "  for (int d = BLOCKSIZE >> 1; d > 0; d >>= 1) {\n",
        "    __syncthreads();\n",
        "\n",
        "    if (TID < d) {\n",
        "      int ai = offset * (2 * TID + 1) - 1;\n",
        "      int bi = offset * (2 * TID + 2) - 1;\n",
        "      sm_data[bi] += sm_data[ai];\n",
        "    }\n",
        "    offset *= 2;\n",
        "  }\n",
        "\n",
        "  /* first thread of the block is in charge of storing the block sum into an intermediate result\n",
        "   * and setting the last element of shared memory to 0 for the downsweep\n",
        "   */\n",
        "  if (TID == 0) {\n",
        "    if (intermediateSum != NULL)\n",
        "      intermediateSum[blockIdx.x] = sm_data[BLOCKSIZE - 1];\n",
        "\n",
        "    if (SCAN_TYPE == SCAN_INCLUSIVE)\n",
        "      sm_data[BLOCKSIZE] = sm_data[BLOCKSIZE - 1];\n",
        "\n",
        "    sm_data[BLOCKSIZE - 1] = 0.0f;\n",
        "  }\n",
        "\n",
        "  // downsweep: traverse down tree & build scan\n",
        "  for (int d = 1; d < BLOCKSIZE; d *= 2) {\n",
        "    offset >>= 1;\n",
        "    __syncthreads();\n",
        "    if (TID < d) {\n",
        "      int ai = offset * (2 * TID + 1) - 1;\n",
        "      int bi = offset * (2 * TID + 2) - 1;\n",
        "      \n",
        "      //swap\n",
        "      double t = sm_data[ai];\n",
        "      sm_data[ai] = sm_data[bi];\n",
        "      sm_data[bi] += t;\n",
        "    }\n",
        "  }\n",
        "\n",
        "  __syncthreads();\n",
        "\n",
        "  int shift = SCAN_TYPE == SCAN_INCLUSIVE;\n",
        "\n",
        "  if (2 * GTID < ARRSIZE)\n",
        "    data[2 * GTID] = sm_data[2 * TID + shift];\n",
        "  if (2 * GTID + 1 < ARRSIZE)\n",
        "    data[2 * GTID + 1] = sm_data[2 * TID + 1 + shift];\n",
        "}\n",
        "\n",
        "__global__ void apply_increment(double *cumsum, double *increment, const int ARR_SIZE) {\n",
        "  int gidx = blockIdx.x * blockDim.x + threadIdx.x;\n",
        "\n",
        "  if (gidx < ARR_SIZE)\n",
        "    cumsum[gidx] += increment[blockIdx.x];\n",
        "}\n",
        "\n",
        "void prescan_launcher(double *d_v, const int ARR_SIZE, const PRESCAN_TYPE_ENUM SCAN_TYPE, const int MAX_BLOCK_SIZE) {\n",
        "  /* \n",
        "  *  Blocksize needs to be a power of two because the scan builds a binary tree. Blocksizes\n",
        "  *  of different sizes will result in illegal memory accesses.\n",
        "  */\n",
        "  int blockSize = MAX_BLOCK_SIZE;\n",
        "  int numBlocks = DIV_ROUNDUP(ARR_SIZE, blockSize);\n",
        "  \n",
        "  const int threadsPerBlock = blockSize / 2;\n",
        "\n",
        "  double *d_intermediary_sums;\n",
        "  CHECK(cudaMalloc((void **) &d_intermediary_sums, sizeof(double) * numBlocks));\n",
        "\n",
        "  prescan<<<numBlocks, threadsPerBlock, sizeof(double) * (blockSize + 1)>>>(d_v, blockSize, d_intermediary_sums, SCAN_TYPE, ARR_SIZE);\n",
        "\n",
        "  if (numBlocks > 1) {\n",
        "    if (numBlocks <= MAX_BLOCK_SIZE) {\n",
        "      // last pass, sum on intermediate values\n",
        "      prescan<<<1, threadsPerBlock, sizeof(double) * blockSize>>>(d_intermediary_sums, blockSize, NULL, SCAN_EXCLUSIVE, numBlocks);\n",
        "    } else if (numBlocks > MAX_BLOCK_SIZE) {\n",
        "      // cannot sum intermediate values in just one block. Need to do multiple passes, recursively...\n",
        "      prescan_launcher(d_intermediary_sums, numBlocks, SCAN_EXCLUSIVE, MAX_BLOCK_SIZE);\n",
        "    }\n",
        "\n",
        "    apply_increment<<<numBlocks, threadsPerBlock * 2>>>(d_v, d_intermediary_sums, ARR_SIZE);\n",
        "  }\n",
        "\n",
        "  CHECK(cudaFree(d_intermediary_sums));\n",
        "}\n",
        "\n",
        "void pheromone_initialization(double *pheromones, double *edge_cost, int N) {\n",
        "  /* BUILD greedy path */\n",
        "  double path_cost = 0;\n",
        "  bool visited[N];\n",
        "\n",
        "  int id_first_node = (int) random() % N;\n",
        "  visited[id_first_node] = true;\n",
        "\n",
        "  int current_node = id_first_node;\n",
        "  for (int i = 1; i < N; i++) {\n",
        "    int closest_node = -1;\n",
        "    double closest_node_cost = (double) INT_MAX;\n",
        "\n",
        "    for (int j = 0; j < N; ++j) {\n",
        "      if (!visited[j] && current_node != j && edge_cost[current_node * N + j] < closest_node_cost) {\n",
        "        closest_node_cost = edge_cost[current_node * N + j];\n",
        "        closest_node = j;\n",
        "      }\n",
        "    }\n",
        "\n",
        "    visited[closest_node] = true;\n",
        "    current_node = closest_node;\n",
        "    path_cost += closest_node_cost;\n",
        "  }\n",
        "\n",
        "  /* set pheromone to N/greedy path cost */\n",
        "  for (int i = 0; i < N * N; ++i)\n",
        "    pheromones[i] = (double) N / (double) path_cost;\n",
        "}\n",
        "\n",
        "void aco_tsp_cuda(\n",
        "    TSPInstance instance,\n",
        "    const float h_ALPHA,\n",
        "    const float h_BETA,\n",
        "    const float h_RHO,\n",
        "    const float h_Q,\n",
        "    const float h_PHEROMONE_LB,\n",
        "    const int MAX_ITERATIONS,\n",
        "    const int STAGNATION_THRESHOLD\n",
        ") {\n",
        "  int deviceCount = 0;\n",
        "  CHECK(cudaGetDeviceCount(&deviceCount));\n",
        "  assert(deviceCount > 0 && \"There are no available device(s) that support CUDA\");\n",
        "  cudaSetDevice(0);\n",
        "\n",
        "\n",
        "  CHECK(cudaMemcpyToSymbol(ALPHA, &h_ALPHA, sizeof(float)));\n",
        "  CHECK(cudaMemcpyToSymbol(BETA, &h_BETA, sizeof(float)));\n",
        "  CHECK(cudaMemcpyToSymbol(RHO, &h_RHO, sizeof(float)));\n",
        "  CHECK(cudaMemcpyToSymbol(Q, &h_Q, sizeof(float)));\n",
        "  CHECK(cudaMemcpyToSymbol(PHEROMONE_LB, &h_PHEROMONE_LB, sizeof(float)));\n",
        "\n",
        "  /* instance size defines size of most data structures (arrays and matrices). N is also the number of ants */\n",
        "  const int N = instance.numOfNodes;\n",
        "\n",
        "  const int NN_INT_SIZE = sizeof(int) * N * N,\n",
        "            NN_DOUBLE_SIZE = sizeof(double) * N * N,\n",
        "            NN_BOOL_SIZE = sizeof(bool) * N * N,\n",
        "            N_INT_SIZE = sizeof(int) * N,\n",
        "            N_DOUBLE_SIZE = sizeof(double) * N;\n",
        "\n",
        "  cudaDeviceProp deviceProp;\n",
        "  CHECK(cudaGetDeviceProperties(&deviceProp, 0));\n",
        "\n",
        "  const int MAX_BLOCK_SIZE = deviceProp.maxThreadsDim[0];\n",
        "  const int NUMBER_OF_SM = deviceProp.multiProcessorCount;\n",
        "\n",
        "\n",
        "  /* configuration for kernels requiring N total threads */  \n",
        "  int N_Op_NumThreads = 32;\n",
        "  int N_Op_NumBlocks = DIV_ROUNDUP(N, N_Op_NumThreads);\n",
        "  while(N_Op_NumBlocks >= 2*NUMBER_OF_SM && N_Op_NumThreads < MAX_BLOCK_SIZE){\n",
        "    N_Op_NumThreads += 32;\n",
        "    N_Op_NumBlocks = DIV_ROUNDUP(N, N_Op_NumThreads);\n",
        "  }\n",
        "  //printf(\"N Op config: %d threads on %d blocks\\n\", N_Op_NumThreads, N_Op_NumBlocks);\n",
        "\n",
        "  /* configuration for kernels requiring N*N total threads */\n",
        "  int NN_Op_NumThreads = 256;\n",
        "  int NN_Op_NumBlocks = DIV_ROUNDUP(N * N, NN_Op_NumThreads);\n",
        "  while (NN_Op_NumThreads < MAX_BLOCK_SIZE && NN_Op_NumBlocks < NUMBER_OF_SM) {\n",
        "    NN_Op_NumThreads += 32;\n",
        "    NN_Op_NumBlocks = DIV_ROUNDUP(N * N, NN_Op_NumThreads);\n",
        "  }\n",
        "  //printf(\"NN Op config: %d threads on %d blocks\\n\", NN_Op_NumThreads, NN_Op_NumBlocks);\n",
        "\n",
        "  double h_pathsCosts[N];\n",
        "  int h_bestPath[N];\n",
        "  double h_bestPathLen = DBL_MAX;\n",
        "\n",
        "\n",
        "  /* DEVICE */\n",
        "  double *d_pheromoneMX,\n",
        "      *d_edgeCostsMX,\n",
        "      *d_edgeFitnessMX,\n",
        "      *d_fitnessPrescanMX,\n",
        "      *d_pathsCosts,\n",
        "      *d_randomNumbers,\n",
        "      *d_pheromoneIncrements;\n",
        "\n",
        "  int *d_pathsMX,\n",
        "      *d_antsFirstNode,\n",
        "      *d_antsCurrentPosition;\n",
        "\n",
        "  bool *d_unvisitedNodesMX;\n",
        "\n",
        "  curandState *d_randStates;\n",
        "\n",
        "  /* NxN size */\n",
        "  CHECK(cudaMalloc((void **) &d_pheromoneMX, NN_DOUBLE_SIZE));\n",
        "  CHECK(cudaMalloc((void **) &d_pathsMX, NN_INT_SIZE));\n",
        "  CHECK(cudaMalloc((void **) &d_edgeCostsMX, NN_DOUBLE_SIZE));\n",
        "  CHECK(cudaMalloc((void **) &d_edgeFitnessMX, NN_DOUBLE_SIZE));\n",
        "  CHECK(cudaMalloc((void **) &d_fitnessPrescanMX, NN_DOUBLE_SIZE));\n",
        "  CHECK(cudaMalloc((void **) &d_unvisitedNodesMX, NN_BOOL_SIZE));\n",
        "\n",
        "  /* 1xN size */\n",
        "  CHECK(cudaMalloc((void **) &d_antsCurrentPosition, N_INT_SIZE));\n",
        "  CHECK(cudaMalloc((void **) &d_antsFirstNode, N_INT_SIZE));\n",
        "  CHECK(cudaMalloc((void **) &d_randomNumbers, N_DOUBLE_SIZE));\n",
        "  CHECK(cudaMalloc((void **) &d_pathsCosts, N_DOUBLE_SIZE));\n",
        "  CHECK(cudaMalloc((void **) &d_pheromoneIncrements, N_DOUBLE_SIZE));\n",
        "  CHECK(cudaMalloc((void **) &d_randStates, N * sizeof(curandState)));\n",
        "\n",
        "  /*** INITIALIZATION ******/\n",
        "  // PHEROMONES\n",
        "  double *startingPheromones = (double *) malloc(NN_DOUBLE_SIZE);\n",
        "  pheromone_initialization(startingPheromones, instance.edgeCosts, N);\n",
        "  CHECK(cudaMemcpy(d_pheromoneMX, startingPheromones, NN_DOUBLE_SIZE, cudaMemcpyHostToDevice));\n",
        "  free(startingPheromones);\n",
        "\n",
        "  // EDGES COSTS\n",
        "  CHECK(cudaMemcpy(d_edgeCostsMX, instance.edgeCosts, NN_DOUBLE_SIZE, cudaMemcpyHostToDevice));\n",
        "\n",
        "  // RANDOM STATES FOR CURAND\n",
        "  init_random_states<<<N_Op_NumBlocks, N_Op_NumThreads>>>(d_randStates, N);\n",
        "\n",
        "  int currentIterationBestAntId;\n",
        "  int stagnationsLeft = STAGNATION_THRESHOLD;\n",
        "  int iterationsLeft = MAX_ITERATIONS;\n",
        "  while (iterationsLeft-- > 0 && stagnationsLeft-- > 0) {\n",
        "    printf(\"\\tGeneration %d of %d\", MAX_ITERATIONS - iterationsLeft, MAX_ITERATIONS);\n",
        "    fflush(stdout);\n",
        "\n",
        "    /* reset (or update) all data from previous iteration */\n",
        "    CHECK(cudaMemset(d_pathsCosts, 0, N_DOUBLE_SIZE));\n",
        "    CHECK(cudaMemset(d_unvisitedNodesMX, 1, NN_BOOL_SIZE));  // set EACH BYTE to 1. Works anyway because any number != 0 is true.\n",
        "\n",
        "    select_starting_position<<<N_Op_NumBlocks, N_Op_NumThreads>>>(\n",
        "        d_unvisitedNodesMX,\n",
        "        d_antsFirstNode,\n",
        "        d_antsCurrentPosition,\n",
        "        d_randStates,\n",
        "        N\n",
        "    );\n",
        "\n",
        "    edge_fitness_update<<<NN_Op_NumBlocks, NN_Op_NumThreads>>>(\n",
        "        d_edgeFitnessMX,\n",
        "        d_pheromoneMX,\n",
        "        d_edgeCostsMX,\n",
        "        N\n",
        "    );\n",
        "\n",
        "    for (int visitedNodes = 1; visitedNodes < N; visitedNodes++) {\n",
        "      /* sets already visited nodes fitness to 0 and put result into array that will be used for prescan */\n",
        "      apply_mask<<<NN_Op_NumBlocks, NN_Op_NumThreads>>>(\n",
        "          d_fitnessPrescanMX,\n",
        "          d_edgeFitnessMX,\n",
        "          d_unvisitedNodesMX,\n",
        "          d_antsCurrentPosition,\n",
        "          N\n",
        "      );\n",
        "\n",
        "      /* calculate probability of picking each node using prefix sum */\n",
        "      prescan_launcher(d_fitnessPrescanMX, N * N, SCAN_INCLUSIVE, MAX_BLOCK_SIZE);\n",
        "      //thrust::inclusive_scan(thrust::device, d_fitnessPrescanMX, d_fitnessPrescanMX + N*N, d_fitnessPrescanMX);\n",
        "\n",
        "      generate_random_number_in_range<<<N_Op_NumBlocks, N_Op_NumThreads>>>(\n",
        "          d_fitnessPrescanMX,\n",
        "          d_randomNumbers,\n",
        "          d_randStates,\n",
        "          N\n",
        "      );\n",
        "\n",
        "      select_node<<<NN_Op_NumBlocks, NN_Op_NumThreads>>>(\n",
        "          d_fitnessPrescanMX,\n",
        "          d_randomNumbers,\n",
        "          d_pathsMX,\n",
        "          d_unvisitedNodesMX,\n",
        "          d_antsCurrentPosition,\n",
        "          d_pathsCosts,\n",
        "          d_edgeCostsMX,\n",
        "          N\n",
        "      );\n",
        "    }\n",
        "\n",
        "    // one thread for each ant\n",
        "    close_loop<<<N_Op_NumBlocks, N_Op_NumThreads>>>(d_pathsMX, d_antsFirstNode, d_antsCurrentPosition, N);\n",
        "\n",
        "    bool updateBestPath = false;\n",
        "    CHECK(cudaMemcpy(h_pathsCosts, d_pathsCosts, N_DOUBLE_SIZE, cudaMemcpyDeviceToHost));\n",
        "    for (int antId = 0; antId < N; antId++)\n",
        "      if (h_pathsCosts[antId] < h_bestPathLen) {\n",
        "        h_bestPathLen = h_pathsCosts[antId];\n",
        "        currentIterationBestAntId = antId;\n",
        "        updateBestPath = true;\n",
        "      }\n",
        "\n",
        "    if (updateBestPath) {\n",
        "      CHECK(cudaMemcpy(h_bestPath, &d_pathsMX[currentIterationBestAntId * N], N_INT_SIZE, cudaMemcpyDeviceToHost));\n",
        "\n",
        "      // there's an improvement reset stagnations left\n",
        "      stagnationsLeft = STAGNATION_THRESHOLD;\n",
        "    }\n",
        "\n",
        "    pheromone_evaporation<<<NN_Op_NumBlocks, NN_Op_NumThreads>>>(d_pheromoneMX, N);\n",
        "\n",
        "    // one thread foreach ant\n",
        "    precompute_pheromone_increments<<<N_Op_NumBlocks, N_Op_NumThreads>>>(d_pheromoneIncrements, d_pathsCosts, N);\n",
        "    pheromone_update_atomic<<<NN_Op_NumBlocks, NN_Op_NumThreads>>>(d_pheromoneMX, d_pathsMX, d_pheromoneIncrements, N);\n",
        "\n",
        "    printf(\"\\r\");\n",
        "    fflush(stdout);\n",
        "  }\n",
        "\n",
        "  printf(\"\\n\\t%sAfter %d iterations, best Path has len: %f\\n\",\n",
        "         stagnationsLeft == -1 ? \"Stopped for stagnation!\\n\\t\" : \"\", MAX_ITERATIONS - iterationsLeft - 1,\n",
        "         h_bestPathLen);\n",
        "\n",
        "  printf(\"\\t\");\n",
        "  for (int j = 0; j < N; ++j) printf(\"%d,\", h_bestPath[j] + 1);\n",
        "  printf(\"\\n\");\n",
        "\n",
        "\n",
        "  CHECK(cudaFree(d_pheromoneMX));\n",
        "  CHECK(cudaFree(d_pathsMX));\n",
        "  CHECK(cudaFree(d_unvisitedNodesMX));\n",
        "  CHECK(cudaFree(d_edgeCostsMX));\n",
        "  CHECK(cudaFree(d_edgeFitnessMX));\n",
        "  CHECK(cudaFree(d_fitnessPrescanMX));\n",
        "  CHECK(cudaFree(d_randStates));\n",
        "  CHECK(cudaFree(d_antsCurrentPosition));\n",
        "  CHECK(cudaFree(d_antsFirstNode));\n",
        "  CHECK(cudaFree(d_randomNumbers));\n",
        "  CHECK(cudaFree(d_pathsCosts));\n",
        "  CHECK(cudaFree(d_pheromoneIncrements));\n",
        "\n",
        "  CHECK(cudaDeviceSynchronize());\n",
        "}"
      ],
      "metadata": {
        "colab": {
          "base_uri": "https://localhost:8080/",
          "height": 35
        },
        "id": "OWm49cNAkm7w",
        "outputId": "4ae3b6a1-2182-49d2-87d6-fd1dfedb8d98"
      },
      "execution_count": 13,
      "outputs": [
        {
          "output_type": "execute_result",
          "data": {
            "text/plain": [
              "'File written in /content/src/lib/cuda/aco_tsp_cuda.cu'"
            ],
            "application/vnd.google.colaboratory.intrinsic+json": {
              "type": "string"
            }
          },
          "metadata": {},
          "execution_count": 13
        }
      ]
    },
    {
      "cell_type": "markdown",
      "source": [
        "## Glue"
      ],
      "metadata": {
        "id": "1eO7fmrhZDqB"
      }
    },
    {
      "cell_type": "code",
      "source": [
        "%%writefile src/CMakeLists.txt\n",
        "cmake_minimum_required(VERSION 3.21)\n",
        "project(ACO_TSP LANGUAGES CUDA C)\n",
        "\n",
        "#######################\n",
        "###   SEQUENTIAL\n",
        "add_library(\n",
        "  aco_tsp_sequential STATIC \n",
        "  \n",
        "  ${CMAKE_CURRENT_SOURCE_DIR}/lib/sequential/tsplib.h\n",
        "  ${CMAKE_CURRENT_SOURCE_DIR}/lib/sequential/tsplib.c \n",
        "  ${CMAKE_CURRENT_SOURCE_DIR}/lib/sequential/aco_tsp_sequential.h \n",
        "  ${CMAKE_CURRENT_SOURCE_DIR}/lib/sequential/aco_tsp_sequential.c \n",
        ")\n",
        "\n",
        "target_include_directories(aco_tsp_sequential PUBLIC ${CMAKE_CURRENT_SOURCE_DIR})\n",
        "\n",
        "#######################\n",
        "###   CUDA\n",
        "set(CUDA_SEPARABLE_COMPILATION ON)\n",
        "\n",
        "add_library(\n",
        "  aco_tsp_cuda STATIC \n",
        "\n",
        "  ${CMAKE_CURRENT_SOURCE_DIR}/lib/cuda/aco_tsp_cuda.h\n",
        "  ${CMAKE_CURRENT_SOURCE_DIR}/lib/cuda/aco_tsp_cuda.cu \n",
        "  \n",
        "  ${CMAKE_CURRENT_SOURCE_DIR}/lib/cuda/common.h\n",
        ")\n",
        "target_include_directories (aco_tsp_cuda PUBLIC ${CMAKE_CURRENT_SOURCE_DIR})\n",
        "set_target_properties(aco_tsp_cuda PROPERTIES CUDA_SEPARABLE_COMPILATION ON)\n",
        "\n",
        "target_link_libraries(aco_tsp_cuda -lcurand)\n",
        "\n",
        "########### MAIN ###########\n",
        "add_executable(ACO_TSP main.cu)\n",
        "\n",
        "target_compile_options(ACO_TSP PRIVATE $<$<COMPILE_LANGUAGE:CUDA>:\n",
        "                       --use_fast_math\n",
        "                       --relocatable-device-code=true\n",
        "                       -arch=sm_75\n",
        "                       >)\n",
        "\n",
        "target_link_libraries(${PROJECT_NAME} PUBLIC m)\n",
        "target_link_libraries(${PROJECT_NAME} PUBLIC aco_tsp_cuda)\n",
        "target_link_libraries(${PROJECT_NAME} PUBLIC aco_tsp_sequential)"
      ],
      "metadata": {
        "colab": {
          "base_uri": "https://localhost:8080/"
        },
        "id": "dd2bR56ZRUyJ",
        "outputId": "7d7adc76-864d-4dbc-be82-ef8520704698"
      },
      "execution_count": 14,
      "outputs": [
        {
          "output_type": "stream",
          "name": "stdout",
          "text": [
            "Writing src/CMakeLists.txt\n"
          ]
        }
      ]
    },
    {
      "cell_type": "code",
      "source": [
        "%%cuda --name main.cu\n",
        "#include <stdio.h>\n",
        "#include <stdlib.h>\n",
        "#include <time.h>\n",
        "#include <assert.h>\n",
        "\n",
        "extern \"C\" { \n",
        "  #include \"./lib/sequential/tsplib.h\"\n",
        "  #include \"./lib/sequential/aco_tsp_sequential.h\"\n",
        "}\n",
        "#include \"./lib/cuda/aco_tsp_cuda.h\"\n",
        "\n",
        "\n",
        "#define BASE_DATA_FOLDER \"/content/data/\"\n",
        "\n",
        "/*\n",
        "ALPHA         importance of pheromone trail\n",
        "BETA          importance of heuristic visibility\n",
        "RHO           pheromone evaporation rate\n",
        "Q             numerator of pheromone update\n",
        "PHEROMONE_LB  pheromone trails lower bound\n",
        "*/\n",
        "static const float ALPHA = 1.0f;\n",
        "static const float BETA = 3.0f;\n",
        "static const float RHO = 0.8f;\n",
        "static const float Q = 1.0f;\n",
        "static const float PHEROMONE_LB = 0.01f;\n",
        "\n",
        "static const int DEFAULT_MAX_ITERATIONS = 100;\n",
        "static const int DEFAULT_STAGNATION_THRESHOLD = DEFAULT_MAX_ITERATIONS/2;\n",
        "\n",
        "int main(int argc, char **argv) {\n",
        "  if (argc<3){\n",
        "    printf(\"-f [filename]\\n-i [number of iterations] (default 100)\\n-s [number of allowed iterations without improvement] (default 50)\\n-c run cpu implementation\\n -g run gpu implementation\");\n",
        "    return -1;\n",
        "  }\n",
        "  \n",
        "  char filenameBuffer[128];\n",
        "  strcpy(filenameBuffer, BASE_DATA_FOLDER);\n",
        "\n",
        "  int MAX_ITERATIONS = DEFAULT_MAX_ITERATIONS;\n",
        "  int STAGNATION_THRESHOLD = DEFAULT_STAGNATION_THRESHOLD;\n",
        "  bool RUN_CPU = false;\n",
        "  bool RUN_GPU = false;\n",
        "  \n",
        "  for(int i=1; i<argc; i+=2){\n",
        "    if(strcmp(argv[i], \"-f\") == 0){\n",
        "      strcat(filenameBuffer, argv[i+1]);    \n",
        "    }else if(strcmp(argv[i], \"-i\") == 0){\n",
        "      MAX_ITERATIONS = strtol(argv[i+1], NULL, 10);\n",
        "    }else if(strcmp(argv[i], \"-s\") == 0){\n",
        "      STAGNATION_THRESHOLD = strtol(argv[i+1], NULL, 10);\n",
        "    }else if(strcmp(argv[i], \"-c\") == 0){\n",
        "      RUN_CPU = true;\n",
        "      i--; // there is no value associated to boolean flag\n",
        "    }else if(strcmp(argv[i], \"-g\") == 0){\n",
        "      RUN_GPU = true;\n",
        "      i--; // there is no value associated to boolean flag\n",
        "    }\n",
        "  }\n",
        "\n",
        "  TSPInstance instance = tsp_instance_read(filenameBuffer);\n",
        "\n",
        "  int cpu_msec, gpu_msec;\n",
        "  srand(time(NULL)); \n",
        "  if(RUN_CPU){\n",
        "    printf(\"\\n\\nRUNNING CPU\\n\\n\");\n",
        "\n",
        "    clock_t starts = clock(), diffs;\n",
        "    \n",
        "    aco_tsp_sequential(instance, ALPHA, BETA, RHO, Q, PHEROMONE_LB, MAX_ITERATIONS, STAGNATION_THRESHOLD);\n",
        "    \n",
        "    diffs = clock() - starts;\n",
        "    cpu_msec = diffs * 1000 / CLOCKS_PER_SEC;\n",
        "  }\n",
        "\n",
        "\n",
        "  if(RUN_GPU){\n",
        "    printf(\"\\n\\nRUNNING GPU\\n\\n\");\n",
        "\n",
        "    clock_t startc = clock(), diffc;\n",
        "\n",
        "    aco_tsp_cuda(instance, ALPHA, BETA, RHO, Q, PHEROMONE_LB, MAX_ITERATIONS, STAGNATION_THRESHOLD);\n",
        "    \n",
        "    diffc = clock() - startc;\n",
        "    gpu_msec = diffc * 1000 / CLOCKS_PER_SEC;\n",
        "  }\n",
        "  printf(\"\\n\");\n",
        "  if(RUN_CPU) printf(\"CPU\\t\\t%d sec. %d msec.\\n\", cpu_msec/1000, cpu_msec%1000);\n",
        "  if(RUN_GPU) printf(\"GPU\\t\\t%d sec. %d msec.\\n\", gpu_msec/1000, gpu_msec%1000);\n",
        "  \n",
        "  if(RUN_CPU && RUN_GPU){\n",
        "    float speedup = (float) cpu_msec/ (float) gpu_msec;\n",
        "    printf(\"SPEEDUP:\\t%f\", speedup);\n",
        "  }\n",
        "\n",
        "\n",
        "  tsp_instance_free(&instance);\n",
        "  return 0;\n",
        "}"
      ],
      "metadata": {
        "colab": {
          "base_uri": "https://localhost:8080/",
          "height": 35
        },
        "id": "ugQP-dqeLRTG",
        "outputId": "2f5eaa9f-f39d-4db7-9794-312d3e44f379"
      },
      "execution_count": 15,
      "outputs": [
        {
          "output_type": "execute_result",
          "data": {
            "text/plain": [
              "'File written in /content/src/main.cu'"
            ],
            "application/vnd.google.colaboratory.intrinsic+json": {
              "type": "string"
            }
          },
          "metadata": {},
          "execution_count": 15
        }
      ]
    },
    {
      "cell_type": "markdown",
      "source": [
        "###Compile & Run"
      ],
      "metadata": {
        "id": "IuvHRxGIIhVg"
      }
    },
    {
      "cell_type": "code",
      "source": [
        "!mkdir -p cmake_build\n",
        "%cd cmake_build\n",
        "!cmake ../src\n",
        "!cmake --build .\n",
        "%cd /content"
      ],
      "metadata": {
        "colab": {
          "base_uri": "https://localhost:8080/"
        },
        "id": "Zd9YRaN1e_LW",
        "outputId": "25d4f62b-8124-4b70-c62b-bf9e72e6682b"
      },
      "execution_count": 16,
      "outputs": [
        {
          "output_type": "stream",
          "name": "stdout",
          "text": [
            "/content/cmake_build\n",
            "-- The CUDA compiler identification is NVIDIA 11.2.152\n",
            "-- The C compiler identification is GNU 7.5.0\n",
            "-- Detecting CUDA compiler ABI info\n",
            "-- Detecting CUDA compiler ABI info - done\n",
            "-- Check for working CUDA compiler: /usr/local/cuda/bin/nvcc - skipped\n",
            "-- Detecting CUDA compile features\n",
            "-- Detecting CUDA compile features - done\n",
            "-- Detecting C compiler ABI info\n",
            "-- Detecting C compiler ABI info - done\n",
            "-- Check for working C compiler: /usr/bin/cc - skipped\n",
            "-- Detecting C compile features\n",
            "-- Detecting C compile features - done\n",
            "-- Configuring done\n",
            "-- Generating done\n",
            "-- Build files have been written to: /content/cmake_build\n",
            "[ 12%] \u001b[32mBuilding C object CMakeFiles/aco_tsp_sequential.dir/lib/sequential/tsplib.c.o\u001b[0m\n",
            "[ 25%] \u001b[32mBuilding C object CMakeFiles/aco_tsp_sequential.dir/lib/sequential/aco_tsp_sequential.c.o\u001b[0m\n",
            "[ 37%] \u001b[32m\u001b[1mLinking C static library libaco_tsp_sequential.a\u001b[0m\n",
            "[ 37%] Built target aco_tsp_sequential\n",
            "[ 50%] \u001b[32mBuilding CUDA object CMakeFiles/aco_tsp_cuda.dir/lib/cuda/aco_tsp_cuda.cu.o\u001b[0m\n",
            "[ 62%] \u001b[32m\u001b[1mLinking CUDA static library libaco_tsp_cuda.a\u001b[0m\n",
            "[ 62%] Built target aco_tsp_cuda\n",
            "[ 75%] \u001b[32mBuilding CUDA object CMakeFiles/ACO_TSP.dir/main.cu.o\u001b[0m\n",
            "[ 87%] \u001b[32m\u001b[1mLinking CUDA device code CMakeFiles/ACO_TSP.dir/cmake_device_link.o\u001b[0m\n",
            "[100%] \u001b[32m\u001b[1mLinking CUDA executable ACO_TSP\u001b[0m\n",
            "[100%] Built target ACO_TSP\n",
            "/content\n"
          ]
        }
      ]
    },
    {
      "cell_type": "code",
      "source": [
        "#!ncu -o proftest --set full -f --quiet ./cmake_build/ACO_TSP -f d1291.tsp -i 1 -s 1 -g"
      ],
      "metadata": {
        "id": "78W7MHd_dkAI"
      },
      "execution_count": 17,
      "outputs": []
    },
    {
      "cell_type": "code",
      "source": [
        "#!ncu -o proftest --set full --kernel-regex pheromone_update_atomic -f --quiet ./cmake_build/ACO_TSP -f d1291.tsp -i 1 -s 1 -g"
      ],
      "metadata": {
        "id": "IMaIpxRe-zrF"
      },
      "execution_count": 18,
      "outputs": []
    },
    {
      "cell_type": "code",
      "source": [
        "!./cmake_build/ACO_TSP -f att48.tsp -i 40 -s 40 -g -c"
      ],
      "metadata": {
        "id": "gvufmP6ddSke",
        "colab": {
          "base_uri": "https://localhost:8080/"
        },
        "outputId": "dffdcae1-cbbc-430f-86c5-c5e31fd72ff8"
      },
      "execution_count": 19,
      "outputs": [
        {
          "output_type": "stream",
          "name": "stdout",
          "text": [
            "Reading tsplib instances from /content/data/att48.tsp\n",
            "\n",
            "\n",
            "RUNNING CPU\n",
            "\n",
            "\tGeneration 1 of 40\r\tGeneration 2 of 40\r\tGeneration 3 of 40\r\tGeneration 4 of 40\r\tGeneration 5 of 40\r\tGeneration 6 of 40\r\tGeneration 7 of 40\r\tGeneration 8 of 40\r\tGeneration 9 of 40\r\tGeneration 10 of 40\r\tGeneration 11 of 40\r\tGeneration 12 of 40\r\tGeneration 13 of 40\r\tGeneration 14 of 40\r\tGeneration 15 of 40\r\tGeneration 16 of 40\r\tGeneration 17 of 40\r\tGeneration 18 of 40\r\tGeneration 19 of 40\r\tGeneration 20 of 40\r\tGeneration 21 of 40\r\tGeneration 22 of 40\r\tGeneration 23 of 40\r\tGeneration 24 of 40\r\tGeneration 25 of 40\r\tGeneration 26 of 40\r\tGeneration 27 of 40\r\tGeneration 28 of 40\r\tGeneration 29 of 40\r\tGeneration 30 of 40\r\tGeneration 31 of 40\r\tGeneration 32 of 40\r\tGeneration 33 of 40\r\tGeneration 34 of 40\r\tGeneration 35 of 40\r\tGeneration 36 of 40\r\tGeneration 37 of 40\r\tGeneration 38 of 40\r\tGeneration 39 of 40\r\tGeneration 40 of 40\r\n",
            "\tAfter 40 iterations, best Path has len: 44254.000000\n",
            "\t8,24,16,26,29,30,28,9,38,42,12,13,25,23,11,22,20,36,6,33,47,1,34,45,21,48,17,37,32,43,44,39,46,3,10,7,19,31,14,41,2,4,27,18,35,15,40,5,\n",
            "\n",
            "\n",
            "RUNNING GPU\n",
            "\n",
            "\tGeneration 40 of 40\n",
            "\tAfter 40 iterations, best Path has len: 38002.000000\n",
            "\t1,26,22,35,48,19,28,38,8,42,34,15,47,13,46,9,20,7,27,33,32,14,11,41,23,4,37,30,2,6,44,39,12,5,45,18,43,31,25,3,16,24,17,36,10,40,21,29,\n",
            "\n",
            "CPU\t\t0 sec. 42 msec.\n",
            "GPU\t\t1 sec. 41 msec.\n",
            "SPEEDUP:\t0.040346"
          ]
        }
      ]
    },
    {
      "cell_type": "code",
      "source": [
        "!./cmake_build/ACO_TSP -f a280.tsp -i 40 -s 40 -g -c"
      ],
      "metadata": {
        "id": "jdxmAaFJddIX",
        "colab": {
          "base_uri": "https://localhost:8080/"
        },
        "outputId": "b516eed7-11d6-4a3b-f787-00b4ee90dc16"
      },
      "execution_count": 20,
      "outputs": [
        {
          "output_type": "stream",
          "name": "stdout",
          "text": [
            "Reading tsplib instances from /content/data/a280.tsp\n",
            "\n",
            "\n",
            "RUNNING CPU\n",
            "\n",
            "\tGeneration 40 of 40\n",
            "\tAfter 40 iterations, best Path has len: 4581.000000\n",
            "\t279,280,4,277,7,5,8,10,272,11,13,15,274,24,1,271,12,17,18,39,128,20,26,25,23,27,28,22,19,31,32,34,126,35,38,37,52,36,40,41,33,43,60,46,44,42,54,47,50,51,48,53,49,55,56,45,68,120,64,61,62,59,118,67,66,58,70,72,269,69,73,71,74,76,77,79,78,86,80,81,89,75,82,65,84,88,113,110,90,91,92,102,94,95,85,97,112,96,98,99,100,103,105,108,106,173,174,107,104,109,83,87,116,111,114,63,115,117,153,57,122,123,124,125,30,127,29,129,130,131,132,133,14,135,136,268,138,139,148,141,142,147,204,143,199,179,146,149,150,178,152,156,155,21,154,121,119,159,160,175,162,163,164,165,189,93,166,167,101,169,170,171,172,161,200,177,151,157,158,168,176,181,182,183,184,188,185,187,190,186,180,195,191,196,197,201,194,192,144,202,203,198,145,205,206,208,250,209,210,211,214,239,212,216,213,217,218,215,220,193,222,219,224,225,221,227,228,229,230,251,238,231,234,235,232,233,226,237,240,245,243,2,242,246,247,241,244,249,223,248,252,253,254,255,207,257,258,259,260,261,262,263,137,140,264,265,266,267,270,134,256,273,16,9,276,6,275,236,278,3,\n",
            "\n",
            "\n",
            "RUNNING GPU\n",
            "\n",
            "\tGeneration 40 of 40\n",
            "\tAfter 40 iterations, best Path has len: 4274.000000\n",
            "\t4,280,279,5,6,276,23,9,10,275,8,11,12,13,14,24,15,133,132,131,20,27,25,17,22,28,26,29,32,125,30,31,34,124,36,33,40,37,38,41,43,150,42,57,46,47,48,53,39,51,49,54,52,55,71,45,56,35,44,59,60,61,62,58,84,64,68,69,70,72,67,73,74,76,77,75,78,95,81,113,80,171,65,85,86,116,112,87,90,91,92,103,94,99,96,97,98,93,101,79,100,169,104,82,106,173,108,109,89,88,110,83,114,111,117,115,118,66,256,119,122,123,105,126,50,127,128,19,21,129,135,18,130,152,270,267,136,266,138,141,147,137,142,146,143,263,148,149,144,63,177,156,155,151,154,153,121,157,158,159,175,161,162,163,164,102,166,167,170,120,172,168,174,107,160,181,176,182,178,179,180,183,184,185,187,188,189,165,190,191,192,193,186,195,198,197,194,201,145,199,202,200,196,203,204,205,206,253,207,211,208,210,212,213,216,214,218,219,222,245,220,221,215,223,224,217,225,227,228,229,238,235,234,232,226,233,236,237,246,239,242,4,244,251,247,231,250,241,248,249,230,209,254,255,252,257,258,259,260,261,262,240,273,134,264,140,265,139,268,269,16,271,272,277,274,7,2,243,278,3,\n",
            "\n",
            "CPU\t\t7 sec. 18 msec.\n",
            "GPU\t\t1 sec. 205 msec.\n",
            "SPEEDUP:\t5.824066"
          ]
        }
      ]
    },
    {
      "cell_type": "code",
      "source": [
        "!./cmake_build/ACO_TSP -f att532.tsp -i 20 -s 10 -g -c"
      ],
      "metadata": {
        "id": "N5t7dUjydaEe",
        "colab": {
          "base_uri": "https://localhost:8080/"
        },
        "outputId": "6feda136-8eda-4e63-ac89-8cf4d895ddc3"
      },
      "execution_count": 21,
      "outputs": [
        {
          "output_type": "stream",
          "name": "stdout",
          "text": [
            "Reading tsplib instances from /content/data/att532.tsp\n",
            "\n",
            "\n",
            "RUNNING CPU\n",
            "\n",
            "\tGeneration 18 of 20\n",
            "\tStopped for stagnation!\n",
            "\tAfter 18 iterations, best Path has len: 178206.000000\n",
            "\t27,4,49,3,7,15,8,9,11,2,12,6,14,10,17,1,18,19,21,37,16,26,32,23,29,28,40,36,13,24,5,34,43,35,46,38,33,31,30,286,245,45,44,48,25,42,59,22,54,41,47,51,52,53,20,116,55,107,60,66,62,73,72,247,71,63,78,64,95,58,87,79,67,39,119,50,99,86,85,84,82,104,74,70,97,75,83,152,110,81,131,76,108,93,88,130,68,235,124,94,241,89,91,100,111,65,105,113,120,118,193,115,114,126,148,142,251,129,226,103,184,61,56,143,77,133,128,122,140,112,136,106,80,166,102,159,127,158,157,161,145,475,132,163,144,223,154,125,153,141,150,204,180,282,138,121,117,149,182,169,151,147,155,206,293,156,176,198,96,175,172,137,69,273,194,135,162,90,167,191,170,146,174,171,196,318,188,181,216,179,210,217,168,183,202,259,164,224,98,207,177,165,186,109,190,160,134,187,200,221,185,258,57,215,197,236,220,189,211,239,255,192,232,209,230,201,249,227,173,219,178,195,225,212,268,203,218,199,347,222,261,262,244,256,123,254,233,228,208,234,369,253,269,257,231,240,205,248,242,237,265,252,264,272,346,295,289,213,271,250,298,288,246,139,283,263,294,243,281,310,270,340,267,279,278,492,276,275,304,302,280,92,101,319,284,300,382,287,345,312,320,311,277,307,321,260,297,324,322,306,285,315,299,317,214,313,290,332,296,355,303,328,309,364,291,301,266,348,335,401,314,326,323,339,343,274,354,351,305,334,331,325,349,308,462,342,361,357,372,356,358,333,341,385,329,330,366,408,367,384,471,368,386,379,394,338,316,373,377,371,396,375,403,344,360,419,389,353,376,352,362,388,337,370,411,378,292,391,398,383,381,359,412,393,380,395,426,350,415,431,432,392,409,397,404,238,374,387,399,427,441,229,425,436,416,414,402,400,433,423,363,406,430,417,429,420,424,442,405,407,428,487,445,413,410,439,435,444,438,459,491,450,390,453,447,452,437,451,327,365,434,421,460,440,458,477,446,494,455,448,470,454,418,465,476,457,456,463,468,469,336,464,472,501,473,485,461,483,443,488,467,486,500,493,489,478,499,508,516,481,504,531,496,484,474,482,510,505,526,502,498,495,480,509,490,503,506,479,522,422,507,513,523,529,517,512,511,521,449,524,520,466,518,525,515,514,497,530,528,527,532,519,\n",
            "\n",
            "\n",
            "RUNNING GPU\n",
            "\n",
            "\tGeneration 20 of 20\n",
            "\tAfter 20 iterations, best Path has len: 173318.000000\n",
            "\t1,16,2,3,4,5,6,11,8,9,12,7,14,10,18,17,91,13,27,21,19,32,20,30,23,22,40,26,25,34,39,29,42,35,37,28,36,49,38,58,76,46,48,50,57,47,45,59,24,41,53,51,43,31,90,233,55,70,33,54,62,239,60,145,74,63,73,77,116,64,65,66,75,83,86,92,84,119,97,105,82,133,96,80,99,78,114,121,107,81,208,175,100,113,98,112,68,69,79,104,303,129,193,94,89,85,110,125,103,118,454,106,108,115,93,61,139,102,134,123,142,128,109,241,52,155,137,127,67,15,101,71,126,135,160,131,245,148,274,161,150,95,132,185,130,194,120,72,153,140,168,202,189,147,163,167,117,149,146,169,151,177,164,144,122,156,179,166,124,181,172,165,157,154,170,200,201,180,176,158,174,187,204,88,196,197,248,183,218,198,138,243,87,188,182,186,211,209,330,143,212,171,216,228,207,111,215,136,224,178,219,190,268,162,214,236,220,289,230,363,210,192,213,141,203,395,173,227,184,253,255,223,247,254,56,242,221,199,238,244,261,263,278,222,270,205,191,232,195,159,337,206,267,246,280,311,226,250,225,271,265,259,276,272,286,229,260,301,262,279,269,252,258,350,309,288,294,256,281,291,299,257,275,234,217,296,237,297,283,285,310,282,266,273,249,300,307,287,308,312,320,290,292,298,277,342,304,284,323,306,378,319,318,240,412,313,314,345,339,293,305,453,325,316,333,295,355,352,335,251,317,326,346,328,343,369,354,388,321,344,331,358,349,324,370,351,302,322,332,356,357,348,341,361,329,336,362,264,367,449,347,368,353,359,235,338,380,366,377,371,365,360,402,340,372,382,389,421,364,392,373,231,401,152,492,499,413,403,398,383,381,376,375,393,334,384,387,327,408,428,514,405,397,379,404,507,400,391,399,407,385,500,415,426,416,414,427,445,410,424,406,446,420,417,438,423,435,396,448,419,315,495,418,409,437,444,430,439,436,484,411,474,390,429,447,488,374,451,483,442,434,464,460,462,459,461,466,450,458,425,477,455,433,465,457,443,456,470,468,463,431,476,485,440,473,475,469,441,422,386,490,491,478,496,489,482,471,480,452,467,504,502,505,519,501,493,479,481,487,44,498,486,508,509,494,511,506,516,522,528,517,513,523,432,503,512,518,521,531,515,524,526,530,525,520,510,472,529,497,527,532,394,\n",
            "\n",
            "CPU\t\t21 sec. 95 msec.\n",
            "GPU\t\t1 sec. 657 msec.\n",
            "SPEEDUP:\t12.730839"
          ]
        }
      ]
    },
    {
      "cell_type": "code",
      "source": [
        "#!./cmake_build/ACO_TSP -f d1291.tsp -i 10 -s 10 -g -c"
      ],
      "metadata": {
        "id": "5I__3jxe3MWh"
      },
      "execution_count": 22,
      "outputs": []
    },
    {
      "cell_type": "code",
      "source": [
        "#!./cmake_build/ACO_TSP -f d2103.tsp -i 10 -s 10 -g -c"
      ],
      "metadata": {
        "id": "n6A8O6SeS8uq"
      },
      "execution_count": 23,
      "outputs": []
    },
    {
      "cell_type": "code",
      "source": [
        "#!./cmake_build/ACO_TSP -f fl3795.tsp -i 5 -s 5 -g -c"
      ],
      "metadata": {
        "id": "LgisRIYU4-Pm"
      },
      "execution_count": 24,
      "outputs": []
    }
  ]
}